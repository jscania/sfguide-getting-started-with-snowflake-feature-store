{
 "cells": [
  {
   "cell_type": "markdown",
   "metadata": {},
   "source": [
    "Version: 0.0.2  Updated date: 07/05/2024\n",
    "Conda Environment : py-snowpark_df_ml_fs-1.15.0_v1"
   ]
  },
  {
   "cell_type": "markdown",
   "metadata": {},
   "source": [
    "# Getting Started with Snowflake Feature Store -  Customer Segmentation\n",
    "\n",
    "The Customer segmentation (UC01) use case is designed to emulate a data science pipeline to find clusters of customers based  on  aggregate  features where  the  customers  are  grouped  based  on  their  spending behavior. <br>\n",
    "\n",
    "It  involves  creating subgroups of customers based on similar traits. <br>\n",
    "\n",
    "The input in this use case consists of order and return transaction data from a retail business. <br>\n",
    "\n",
    "The use case uses Tables Customer, Order, Lineitem and Order_returns. <br>\n",
    "\n",
    "K-means  clustering  algorithm  is  used  to  derive  the  optimum  number  of  clusters  and  understand  the  underlying customer segments based on the data provided. <br>\n",
    "Clustering is an unsupervised machine learning technique, where there are no defined dependent and independent variables, i.e. the training samples are unlabeled. <br>\n",
    "The pattern in the data is used to identify and group similar observations. <br>\n",
    "\n",
    "We will use the Use-Case to show how Snowflake Feature Store (and Model Registry) can be used to maintain & store features, retrieve them for training and perform micro-batch inference.\n",
    "\n",
    "In the development (TRAINING) enviroment we will \n",
    "- create FeatureViews in the Feature Store that maintain the required customer-behaviour features.\n",
    "- use these Features to train a model, and save the model in the Snowflake model-registry.\n",
    "- plot the clusters for the trained model to visually verify. \n",
    "\n",
    "In the production (SERVING) environment we will\n",
    "- re-create the FeatureViews on production data\n",
    "- generate an Inference FeatureView that uses the saved model to perform incremental inference\n",
    "\n",
    "# Feature Engineering & Model Training"
   ]
  },
  {
   "cell_type": "code",
   "execution_count": 1,
   "metadata": {
    "metadata": {}
   },
   "outputs": [],
   "source": [
    "%load_ext autoreload\n",
    "%autoreload 2"
   ]
  },
  {
   "cell_type": "markdown",
   "metadata": {},
   "source": [
    "#### Notebook Packages"
   ]
  },
  {
   "cell_type": "code",
   "execution_count": 2,
   "metadata": {
    "metadata": {}
   },
   "outputs": [],
   "source": [
    "# Python packages\n",
    "import os\n",
    "from os import listdir\n",
    "from os.path import isfile, join\n",
    "import time\n",
    "import json\n",
    "import timeit\n",
    "import numpy as np\n",
    "import pandas as pd\n",
    "import tabulate\n",
    "import datetime\n",
    "import ast      \n",
    "import sqlglot\n",
    "import sqlglot.optimizer.optimizer\n",
    "\n",
    "# SNOWFLAKE\n",
    "# Snowpark\n",
    "from snowflake.snowpark import Session, DataFrame, Window, WindowSpec\n",
    "\n",
    "import snowflake.snowpark.functions as F\n",
    "import snowflake.snowpark.types as T\n",
    "from snowflake.snowpark.version import VERSION\n",
    "\n",
    "# Snowflake Feature Store\n",
    "from snowflake.ml.feature_store import (\n",
    "    FeatureStore,\n",
    "    FeatureView,\n",
    "    Entity,\n",
    "    CreationMode)\n",
    "\n",
    "# Snowflake Model Registry\n",
    "from snowflake.ml.registry import Registry\n",
    "from snowflake.ml.utils import connection_params\n",
    "from snowflake.ml._internal.utils import  identifier  \n",
    "\n",
    "# COMMON FUNCTIONS\n",
    "from useful_fns import check_and_update, formatSQL, create_ModelRegistry, create_FeatureStore \n",
    "\n",
    "#### Use-Case 01 - Specific Packages\n",
    "# K-Means clustering\n",
    "#from sklearn.pipeline import Pipeline as skl_Pipeline\n",
    "from snowflake.ml.modeling.pipeline import Pipeline as sml_Pipeline\n",
    "#from sklearn.preprocessing import MinMaxScaler as skl_MinMaxScaler\n",
    "from snowflake.ml.modeling.preprocessing import MinMaxScaler as sml_MinMaxScaler\n",
    "#from sklearn.cluster import KMeans as skl_KMeans\n",
    "from snowflake.ml.modeling.cluster import KMeans as sml_KMeans"
   ]
  },
  {
   "cell_type": "markdown",
   "metadata": {},
   "source": [
    "### Setup Snowflake connection and database parameters"
   ]
  },
  {
   "cell_type": "code",
   "execution_count": 18,
   "metadata": {},
   "outputs": [
    {
     "name": "stdout",
     "output_type": "stream",
     "text": [
      "env: SNOWFLAKE_DEFAULT_CONNECTION_NAME=tk34300.eu-west-1\n"
     ]
    }
   ],
   "source": [
    "%env SNOWFLAKE_DEFAULT_CONNECTION_NAME=tk34300.eu-west-1"
   ]
  },
  {
   "cell_type": "code",
   "execution_count": 19,
   "metadata": {
    "metadata": {}
   },
   "outputs": [
    {
     "name": "stdout",
     "output_type": "stream",
     "text": [
      "\n",
      "Connection Established with the following parameters:\n",
      "User                        : JMARAGNA\n",
      "Role                        : \"ULTRASONIC_ROLE\"\n",
      "Database                    : \"TPCXAI_SF0001_QUICKSTART\"\n",
      "Schema                      : \"TRAINING\"\n",
      "Warehouse                   : \"TPCXAI_SF0001_QUICKSTART_WH\"\n",
      "Snowflake version           : 9.1.0\n",
      "Snowpark for Python version : 1.16.0 \n",
      "\n"
     ]
    }
   ],
   "source": [
    "# Scale Factor\n",
    "scale_factor               = 'SF0001'\n",
    "\n",
    "# Roles\n",
    "fs_qs_role                 = 'ULTRASONIC_ROLE'\n",
    "\n",
    "# Database\n",
    "tpcxai_database_base       = f'TPCXAI_{scale_factor}_QUICKSTART'\n",
    "# tpcxai_database            = f'{tpcxai_database_base}_INC'\n",
    "tpcxai_database            = tpcxai_database_base\n",
    "\n",
    "# Schemas\n",
    "tpcxai_training_schema     = 'TRAINING'\n",
    "tpcxai_scoring_schema      = 'SCORING'\n",
    "tpcxai_serving_schema      = 'SERVING'\n",
    "\n",
    "# Create Snowflake Session object\n",
    "session = Session.builder.getOrCreate()\n",
    "session.sql_simplifier_enabled = True\n",
    "snowflake_environment = session.sql('SELECT current_user(), current_version()').collect()\n",
    "snowpark_version = VERSION\n",
    "\n",
    "# Set  Environment\n",
    "session.sql(f'''use database {tpcxai_database}''').collect()\n",
    "session.sql(f'''use schema {tpcxai_training_schema}''').collect()\n",
    "session.sql(f'''use role {fs_qs_role}''').collect()\n",
    "\n",
    "# Create a Warehouse\n",
    "#warehouse_env = f\"\"\"{tpcxai_database}_{tpcxai_training_schema}\"\"\"\n",
    "warehouse_sz = 'MEDIUM'\n",
    "warehouse_env = f'TPCXAI_{scale_factor}_QUICKSTART_WH'\n",
    "session.sql(f'''use warehouse {warehouse_env}''').collect()\n",
    "session.sql(f'''alter warehouse {warehouse_env} set warehouse_size = {warehouse_sz}''').collect()\n",
    "\n",
    "# Current Environment Details\n",
    "print('\\nConnection Established with the following parameters:')\n",
    "print(f'User                        : {snowflake_environment[0][0]}')\n",
    "print(f'Role                        : {session.get_current_role()}')\n",
    "print(f'Database                    : {session.get_current_database()}')\n",
    "print(f'Schema                      : {session.get_current_schema()}')\n",
    "print(f'Warehouse                   : {session.get_current_warehouse()}')\n",
    "print(f'Snowflake version           : {snowflake_environment[0][1]}')\n",
    "print(f'Snowpark for Python version : {snowpark_version[0]}.{snowpark_version[1]}.{snowpark_version[2]} \\n')"
   ]
  },
  {
   "cell_type": "markdown",
   "metadata": {},
   "source": [
    "## MODEL DEVELOPMENT\n",
    "* Create Snowflake Model-Registry\n",
    "* Create Snowflake Feature-Store\n",
    "* Establish and Create CUSTOMER Entity in the development Snowflake FeatureStore\n",
    "* Create Source Data references and perform basic data-cleansing\n",
    "* Create & Run Preprocessing Function to create features\n",
    "* Create FeatureView_Preprocess from Preprocess Dataframe SQL\n",
    "* Create training data from FeatureView_Preprocess (asof join)\n",
    "* Create & Fit Snowpark-ml pipeline \n",
    "* Save model in Model Registry\n",
    "* 'Verify' and approve model\n",
    "* Create new FeatureView_Model_Inference with Transforms UDF + KMeans model"
   ]
  },
  {
   "cell_type": "code",
   "execution_count": 20,
   "metadata": {
    "metadata": {}
   },
   "outputs": [
    {
     "name": "stdout",
     "output_type": "stream",
     "text": [
      "Model Registry (_MODEL_REGISTRY) already exists\n",
      "Feature Store (_TRAINING_FEATURE_STORE) already exists\n",
      "\n",
      "TABLE ROW_COUNTS IN TRAINING\n",
      "TPCXAI_SF0001_QUICKSTART.TRAINING.CUSTOMER 70710\n",
      "TPCXAI_SF0001_QUICKSTART.TRAINING.LINEITEM 23026666\n",
      "TPCXAI_SF0001_QUICKSTART.TRAINING.ORDERS 3676955\n",
      "TPCXAI_SF0001_QUICKSTART.TRAINING.ORDER_RETURNS 1331620\n"
     ]
    }
   ],
   "source": [
    "# Set the Schema\n",
    "tpcxai_schema = tpcxai_training_schema\n",
    "\n",
    "# Create/Reference Snowflake Model Registry - Common across Environments\n",
    "mr = create_ModelRegistry(session, tpcxai_database, '_MODEL_REGISTRY')\n",
    "\n",
    "# Create/Reference Snowflake Feature Store for Training (Development) Environment\n",
    "fs = create_FeatureStore(session, tpcxai_database, f'''_{tpcxai_schema}_FEATURE_STORE''', warehouse_env)\n",
    "\n",
    "# Tables\n",
    "customer_tbl                     = '.'.join([tpcxai_database, tpcxai_schema,'CUSTOMER'])\n",
    "line_item_tbl                    = '.'.join([tpcxai_database, tpcxai_schema,'LINEITEM'])\n",
    "order_tbl                        = '.'.join([tpcxai_database, tpcxai_schema,'ORDERS'])\n",
    "order_returns_tbl                = '.'.join([tpcxai_database, tpcxai_schema,'ORDER_RETURNS'])\n",
    "\n",
    "# Snowpark Dataframe\n",
    "customer_sdf               = session.table(customer_tbl)\n",
    "line_item_sdf              = session.table(line_item_tbl)\n",
    "order_sdf                  = session.table(order_tbl)\n",
    "order_returns_sdf          = session.table(order_returns_tbl)\n",
    "\n",
    "# Row Counts\n",
    "print(f'''\\nTABLE ROW_COUNTS IN {tpcxai_schema}''')\n",
    "print(customer_tbl, customer_sdf.count())\n",
    "print(line_item_tbl, line_item_sdf.count())\n",
    "print(order_tbl, order_sdf.count())\n",
    "print(order_returns_tbl, order_returns_sdf.count())"
   ]
  },
  {
   "cell_type": "markdown",
   "metadata": {},
   "source": [
    "### CUSTOMER Entity\n",
    "Establish and Create CUSTOMER Entity in Snowflake FeatureStore for this Use-Case"
   ]
  },
  {
   "cell_type": "code",
   "execution_count": 21,
   "metadata": {
    "metadata": {}
   },
   "outputs": [
    {
     "name": "stdout",
     "output_type": "stream",
     "text": [
      "-----------------------------------------------------------------------------\n",
      "|\"NAME\"    |\"JOIN_KEYS\"        |\"DESC\"                    |\"OWNER\"          |\n",
      "-----------------------------------------------------------------------------\n",
      "|CUSTOMER  |[\"O_CUSTOMER_SK\"]  |Primary Key for CUSTOMER  |ULTRASONIC_ROLE  |\n",
      "-----------------------------------------------------------------------------\n",
      "\n"
     ]
    }
   ],
   "source": [
    "# NOTE: adjust this when we suport \"create_if_not_exists\"\n",
    "if \"CUSTOMER\" not in json.loads(fs.list_entities().select(F.to_json(F.array_agg(\"NAME\", True))).collect()[0][0]):\n",
    "    customer_entity = Entity(name=\"CUSTOMER\", join_keys=[\"O_CUSTOMER_SK\"],desc=\"Primary Key for CUSTOMER\")\n",
    "    fs.register_entity(customer_entity)\n",
    "else:\n",
    "    customer_entity = fs.get_entity(\"CUSTOMER\")\n",
    "\n",
    "fs.list_entities().show()"
   ]
  },
  {
   "cell_type": "markdown",
   "metadata": {},
   "source": [
    " ### Create & Load Source Data"
   ]
  },
  {
   "cell_type": "markdown",
   "metadata": {},
   "source": [
    "Our Feature engineering pipelines are defined using Snowpark dataframes (or SQL expressions).  In the `QS_feature_engineering_fns.py` file we have created two feature engineering functions to create our pipeline :\n",
    "* __uc01_load_data__(order_data: DataFrame, lineitem_data: DataFrame, order_returns_data: DataFrame) -> DataFrame   \n",
    "* __uc01_pre_process__(data: DataFrame) -> DataFrame\n",
    "\n",
    "`uc01_load_data`, takes the source tables, as dataframe objects, and joins them together, performing some data-cleansing by replacing NA's with default values. It returns a dataframe as it's output.\n",
    "\n",
    "`uc01_pre_process`, takes the dataframe output from `uc01_load_data`  and performs aggregation on it to derive some features that will be used in our segmentation model.  It returns a dataframe as output, which we will use to provide the feature-pipeline definition within our FeatureView.\n",
    "\n",
    "In this way we can build up a complex pipeline step-by-step and use it to derive a FeatureView, that will be maintained as a pipeline in Snowflake.\n",
    "\n",
    "We will import the functions, and create dataframes from them using the dataframes we created earlier pointing to the tables in our TRAINING (Development) schema.  We will use the last dataframe we create at the end of the pipeline as our input to the FeatureView.\n"
   ]
  },
  {
   "cell_type": "code",
   "execution_count": 22,
   "metadata": {},
   "outputs": [],
   "source": [
    "# Feature Engineering Functions\n",
    "from feature_engineering_fns import uc01_load_data, uc01_pre_process"
   ]
  },
  {
   "cell_type": "code",
   "execution_count": 23,
   "metadata": {
    "metadata": {}
   },
   "outputs": [],
   "source": [
    "raw_data = uc01_load_data(order_sdf, line_item_sdf, order_returns_sdf)"
   ]
  },
  {
   "cell_type": "code",
   "execution_count": 24,
   "metadata": {
    "metadata": {}
   },
   "outputs": [
    {
     "name": "stdout",
     "output_type": "stream",
     "text": [
      "WITH SNOWPARK_LEFT AS (\n",
      "  SELECT\n",
      "    \"LI_ORDER_ID\" AS \"LI_ORDER_ID\",\n",
      "    \"LI_PRODUCT_ID\" AS \"LI_PRODUCT_ID\",\n",
      "    \"QUANTITY\" AS \"QUANTITY\",\n",
      "    \"PRICE\" AS \"PRICE\"\n",
      "  FROM TPCXAI_SF0001_QUICKSTART.TRAINING.LINEITEM\n",
      "), SNOWPARK_RIGHT AS (\n",
      "  SELECT\n",
      "    \"OR_ORDER_ID\" AS \"OR_ORDER_ID\",\n",
      "    \"OR_PRODUCT_ID\" AS \"OR_PRODUCT_ID\",\n",
      "    \"OR_RETURN_QUANTITY\" AS \"OR_RETURN_QUANTITY\"\n",
      "  FROM TPCXAI_SF0001_QUICKSTART.TRAINING.ORDER_RETURNS\n",
      "), cte AS (\n",
      "  SELECT\n",
      "    *\n",
      "  FROM (\n",
      "    SNOWPARK_LEFT AS SNOWPARK_LEFT\n",
      "      LEFT OUTER JOIN SNOWPARK_RIGHT AS SNOWPARK_RIGHT\n",
      "        ON (\n",
      "          (\n",
      "            \"LI_ORDER_ID\" = \"OR_ORDER_ID\"\n",
      "          ) AND (\n",
      "            \"LI_PRODUCT_ID\" = \"OR_PRODUCT_ID\"\n",
      "          )\n",
      "        )\n",
      "  )\n",
      "), SNOWPARK_LEFT_2 AS (\n",
      "  SELECT\n",
      "    \"LI_ORDER_ID\" AS \"LI_ORDER_ID\",\n",
      "    \"LI_PRODUCT_ID\" AS \"LI_PRODUCT_ID\",\n",
      "    \"QUANTITY\" AS \"QUANTITY\",\n",
      "    \"PRICE\" AS \"PRICE\",\n",
      "    \"OR_ORDER_ID\" AS \"OR_ORDER_ID\",\n",
      "    \"OR_PRODUCT_ID\" AS \"OR_PRODUCT_ID\",\n",
      "    \"OR_RETURN_QUANTITY\" AS \"OR_RETURN_QUANTITY\"\n",
      "  FROM cte AS cte\n",
      "), SNOWPARK_RIGHT_2 AS (\n",
      "  SELECT\n",
      "    \"O_ORDER_ID\" AS \"O_ORDER_ID\",\n",
      "    \"O_CUSTOMER_SK\" AS \"O_CUSTOMER_SK\",\n",
      "    \"ORDER_TS\" AS \"ORDER_TS\",\n",
      "    \"WEEKDAY\" AS \"WEEKDAY\",\n",
      "    \"ORDER_DATE\" AS \"ORDER_DATE\",\n",
      "    \"STORE\" AS \"STORE\",\n",
      "    \"TRIP_TYPE\" AS \"TRIP_TYPE\"\n",
      "  FROM TPCXAI_SF0001_QUICKSTART.TRAINING.ORDERS\n",
      "), cte_2 AS (\n",
      "  SELECT\n",
      "    *\n",
      "  FROM (\n",
      "    SNOWPARK_LEFT_2 AS SNOWPARK_LEFT\n",
      "      INNER JOIN SNOWPARK_RIGHT_2 AS SNOWPARK_RIGHT\n",
      "        ON (\n",
      "          \"OR_ORDER_ID\" = \"O_ORDER_ID\"\n",
      "        )\n",
      "  )\n",
      ")\n",
      "SELECT\n",
      "  IFF(\"O_ORDER_ID\" IS NULL, 0, \"O_ORDER_ID\") AS \"O_ORDER_ID\",\n",
      "  IFF(\"O_CUSTOMER_SK\" IS NULL, 0, \"O_CUSTOMER_SK\") AS \"O_CUSTOMER_SK\",\n",
      "  IFF(\"ORDER_DATE\" IS NULL, CAST('1970-01-01' AS DATE), \"ORDER_DATE\") AS \"ORDER_DATE\",\n",
      "  \"LI_PRODUCT_ID\",\n",
      "  IFF(\"PRICE\" IS NULL, 0.0, \"PRICE\") AS \"PRICE\",\n",
      "  IFF(\"QUANTITY\" IS NULL, 0, \"QUANTITY\") AS \"QUANTITY\",\n",
      "  IFF(\"OR_RETURN_QUANTITY\" IS NULL, 0, \"OR_RETURN_QUANTITY\") AS \"OR_RETURN_QUANTITY\"\n",
      "FROM cte_2 AS cte_2\n"
     ]
    }
   ],
   "source": [
    "# Format and print the SQL for the Snowpark Dataframe\n",
    "rd_sql = formatSQL(raw_data.queries['queries'][0], True)\n",
    "print(os.linesep.join(rd_sql.split(os.linesep)[:1000]))"
   ]
  },
  {
   "cell_type": "code",
   "execution_count": 25,
   "metadata": {
    "metadata": {}
   },
   "outputs": [
    {
     "name": "stdout",
     "output_type": "stream",
     "text": [
      "-----------------------------------------------------------------------------------------------------------------\n",
      "|\"O_ORDER_ID\"  |\"O_CUSTOMER_SK\"  |\"ORDER_DATE\"  |\"LI_PRODUCT_ID\"  |\"PRICE\"  |\"QUANTITY\"  |\"OR_RETURN_QUANTITY\"  |\n",
      "-----------------------------------------------------------------------------------------------------------------\n",
      "|585802        |51536            |2023-02-14    |113              |5.46     |1           |1                     |\n",
      "|588316        |30199            |2023-04-04    |113              |7.65     |3           |1                     |\n",
      "|588337        |37367            |2022-08-11    |113              |3.91     |1           |1                     |\n",
      "|588337        |37367            |2022-08-11    |113              |3.91     |1           |1                     |\n",
      "|588337        |37367            |2022-08-11    |113              |3.91     |1           |1                     |\n",
      "|588337        |37367            |2022-08-11    |113              |3.91     |1           |1                     |\n",
      "|588337        |37367            |2022-08-11    |113              |4.62     |2           |1                     |\n",
      "|588337        |37367            |2022-08-11    |113              |4.62     |2           |1                     |\n",
      "|588337        |37367            |2022-08-11    |113              |4.62     |2           |1                     |\n",
      "|588337        |37367            |2022-08-11    |113              |4.62     |2           |1                     |\n",
      "-----------------------------------------------------------------------------------------------------------------\n",
      "\n"
     ]
    }
   ],
   "source": [
    "raw_data.show()"
   ]
  },
  {
   "cell_type": "markdown",
   "metadata": {},
   "source": [
    "### Create & Run Preprocessing Function "
   ]
  },
  {
   "cell_type": "code",
   "execution_count": 26,
   "metadata": {
    "metadata": {}
   },
   "outputs": [],
   "source": [
    "preprocessed_data = uc01_pre_process(raw_data)"
   ]
  },
  {
   "cell_type": "code",
   "execution_count": 27,
   "metadata": {
    "metadata": {}
   },
   "outputs": [
    {
     "name": "stdout",
     "output_type": "stream",
     "text": [
      "WITH SNOWPARK_LEFT AS (\n",
      "  SELECT\n",
      "    \"LI_ORDER_ID\" AS \"LI_ORDER_ID\",\n",
      "    \"LI_PRODUCT_ID\" AS \"LI_PRODUCT_ID\",\n",
      "    \"QUANTITY\" AS \"QUANTITY\",\n",
      "    \"PRICE\" AS \"PRICE\"\n",
      "  FROM TPCXAI_SF0001_QUICKSTART.TRAINING.LINEITEM\n",
      "), SNOWPARK_RIGHT AS (\n",
      "  SELECT\n",
      "    \"OR_ORDER_ID\" AS \"OR_ORDER_ID\",\n",
      "    \"OR_PRODUCT_ID\" AS \"OR_PRODUCT_ID\",\n",
      "    \"OR_RETURN_QUANTITY\" AS \"OR_RETURN_QUANTITY\"\n",
      "  FROM TPCXAI_SF0001_QUICKSTART.TRAINING.ORDER_RETURNS\n",
      "), cte AS (\n",
      "  SELECT\n",
      "    *\n",
      "  FROM (\n",
      "    SNOWPARK_LEFT AS SNOWPARK_LEFT\n",
      "      LEFT OUTER JOIN SNOWPARK_RIGHT AS SNOWPARK_RIGHT\n",
      "        ON (\n",
      "          (\n",
      "            \"LI_ORDER_ID\" = \"OR_ORDER_ID\"\n",
      "          ) AND (\n",
      "            \"LI_PRODUCT_ID\" = \"OR_PRODUCT_ID\"\n",
      "          )\n",
      "        )\n",
      "  )\n",
      "), SNOWPARK_LEFT_2 AS (\n",
      "  SELECT\n",
      "    \"LI_ORDER_ID\" AS \"LI_ORDER_ID\",\n",
      "    \"LI_PRODUCT_ID\" AS \"LI_PRODUCT_ID\",\n",
      "    \"QUANTITY\" AS \"QUANTITY\",\n",
      "    \"PRICE\" AS \"PRICE\",\n",
      "    \"OR_ORDER_ID\" AS \"OR_ORDER_ID\",\n",
      "    \"OR_PRODUCT_ID\" AS \"OR_PRODUCT_ID\",\n",
      "    \"OR_RETURN_QUANTITY\" AS \"OR_RETURN_QUANTITY\"\n",
      "  FROM cte AS cte\n",
      "), SNOWPARK_RIGHT_2 AS (\n",
      "  SELECT\n",
      "    \"O_ORDER_ID\" AS \"O_ORDER_ID\",\n",
      "    \"O_CUSTOMER_SK\" AS \"O_CUSTOMER_SK\",\n",
      "    \"ORDER_TS\" AS \"ORDER_TS\",\n",
      "    \"WEEKDAY\" AS \"WEEKDAY\",\n",
      "    \"ORDER_DATE\" AS \"ORDER_DATE\",\n",
      "    \"STORE\" AS \"STORE\",\n",
      "    \"TRIP_TYPE\" AS \"TRIP_TYPE\"\n",
      "  FROM TPCXAI_SF0001_QUICKSTART.TRAINING.ORDERS\n",
      "), cte_2 AS (\n",
      "  SELECT\n",
      "    *\n",
      "  FROM (\n",
      "    SNOWPARK_LEFT_2 AS SNOWPARK_LEFT\n",
      "      INNER JOIN SNOWPARK_RIGHT_2 AS SNOWPARK_RIGHT\n",
      "        ON (\n",
      "          \"OR_ORDER_ID\" = \"O_ORDER_ID\"\n",
      "        )\n",
      "  )\n",
      "), cte_3 AS (\n",
      "  SELECT\n",
      "    IFF(\"O_ORDER_ID\" IS NULL, 0, \"O_ORDER_ID\") AS \"O_ORDER_ID\",\n",
      "    IFF(\"O_CUSTOMER_SK\" IS NULL, 0, \"O_CUSTOMER_SK\") AS \"O_CUSTOMER_SK\",\n",
      "    IFF(\"ORDER_DATE\" IS NULL, CAST('1970-01-01' AS DATE), \"ORDER_DATE\") AS \"ORDER_DATE\",\n",
      "    \"LI_PRODUCT_ID\",\n",
      "    IFF(\"PRICE\" IS NULL, 0.0, \"PRICE\") AS \"PRICE\",\n",
      "    IFF(\"QUANTITY\" IS NULL, 0, \"QUANTITY\") AS \"QUANTITY\",\n",
      "    IFF(\"OR_RETURN_QUANTITY\" IS NULL, 0, \"OR_RETURN_QUANTITY\") AS \"OR_RETURN_QUANTITY\"\n",
      "  FROM cte_2 AS cte_2\n",
      "), cte_4 AS (\n",
      "  SELECT\n",
      "    \"O_ORDER_ID\",\n",
      "    \"O_CUSTOMER_SK\",\n",
      "    \"ORDER_DATE\",\n",
      "    \"LI_PRODUCT_ID\",\n",
      "    \"PRICE\",\n",
      "    \"QUANTITY\",\n",
      "    \"OR_RETURN_QUANTITY\",\n",
      "    YEAR(\"ORDER_DATE\") AS \"INVOICE_YEAR\",\n",
      "    (\n",
      "      \"QUANTITY\" * \"PRICE\"\n",
      "    ) AS \"ROW_PRICE\",\n",
      "    (\n",
      "      \"OR_RETURN_QUANTITY\" * \"PRICE\"\n",
      "    ) AS \"RETURN_ROW_PRICE\"\n",
      "  FROM cte_3 AS cte_3\n",
      "), cte_5 AS (\n",
      "  SELECT\n",
      "    \"O_CUSTOMER_SK\",\n",
      "    \"O_ORDER_ID\",\n",
      "    SUM(\"ROW_PRICE\") AS \"ROW_PRICE\",\n",
      "    SUM(\"RETURN_ROW_PRICE\") AS \"RETURN_ROW_PRICE\",\n",
      "    MIN(\"INVOICE_YEAR\") AS \"INVOICE_YEAR\",\n",
      "    MAX(\"ORDER_DATE\") AS \"LATEST_ORDER_DATE\"\n",
      "  FROM cte_4 AS cte_4\n",
      "  GROUP BY\n",
      "    \"O_CUSTOMER_SK\",\n",
      "    \"O_ORDER_ID\"\n",
      "), cte_6 AS (\n",
      "  SELECT\n",
      "    \"O_CUSTOMER_SK\",\n",
      "    \"O_ORDER_ID\",\n",
      "    \"ROW_PRICE\",\n",
      "    \"RETURN_ROW_PRICE\",\n",
      "    \"INVOICE_YEAR\",\n",
      "    \"LATEST_ORDER_DATE\",\n",
      "    (\n",
      "      \"RETURN_ROW_PRICE\" / \"ROW_PRICE\"\n",
      "    ) AS \"RATIO\"\n",
      "  FROM cte_5 AS cte_5\n",
      "), cte_7 AS (\n",
      "  SELECT\n",
      "    \"O_CUSTOMER_SK\",\n",
      "    \"INVOICE_YEAR\",\n",
      "    CAST(COUNT(\"O_ORDER_ID\") AS FLOAT) AS \"FREQUENCY\"\n",
      "  FROM cte_6 AS cte_6\n",
      "  GROUP BY\n",
      "    \"O_CUSTOMER_SK\",\n",
      "    \"INVOICE_YEAR\"\n",
      "), cte_8 AS (\n",
      "  SELECT\n",
      "    \"O_CUSTOMER_SK\",\n",
      "    AVG(\"FREQUENCY\") AS \"FREQUENCY\"\n",
      "  FROM cte_7 AS cte_7\n",
      "  GROUP BY\n",
      "    \"O_CUSTOMER_SK\"\n",
      "), SNOWPARK_LEFT_3 AS (\n",
      "  SELECT\n",
      "    \"O_CUSTOMER_SK\" AS \"O_CUSTOMER_SK\",\n",
      "    \"FREQUENCY\" AS \"FREQUENCY\"\n",
      "  FROM cte_8 AS cte_8\n",
      "), cte_9 AS (\n",
      "  SELECT\n",
      "    \"O_CUSTOMER_SK\",\n",
      "    CAST(AVG(\"RATIO\") AS FLOAT) AS \"RETURN_RATIO\",\n",
      "    MAX(\"LATEST_ORDER_DATE\") AS \"LATEST_ORDER_DATE\"\n",
      "  FROM cte_6 AS cte_6\n",
      "  GROUP BY\n",
      "    \"O_CUSTOMER_SK\"\n",
      "), SNOWPARK_RIGHT_3 AS (\n",
      "  SELECT\n",
      "    \"O_CUSTOMER_SK\" AS \"O_CUSTOMER_SK\",\n",
      "    \"RETURN_RATIO\" AS \"RETURN_RATIO\",\n",
      "    \"LATEST_ORDER_DATE\" AS \"LATEST_ORDER_DATE\"\n",
      "  FROM cte_9 AS cte_9\n",
      ")\n",
      "SELECT\n",
      "  *\n",
      "FROM (\n",
      "  SNOWPARK_LEFT_3 AS SNOWPARK_LEFT\n",
      "    INNER JOIN SNOWPARK_RIGHT_3 AS SNOWPARK_RIGHT\n",
      "      USING (O_CUSTOMER_SK)\n",
      ")\n"
     ]
    }
   ],
   "source": [
    "# Format and print the SQL for the Snowpark Dataframe\n",
    "ppd_sql = formatSQL(preprocessed_data.queries['queries'][0], True)\n",
    "print(os.linesep.join(ppd_sql.split(os.linesep)[:1000]))"
   ]
  },
  {
   "cell_type": "code",
   "execution_count": 28,
   "metadata": {
    "metadata": {}
   },
   "outputs": [
    {
     "name": "stdout",
     "output_type": "stream",
     "text": [
      "-------------------------------------------------------------------------------\n",
      "|\"O_CUSTOMER_SK\"  |\"FREQUENCY\"         |\"RETURN_RATIO\"  |\"LATEST_ORDER_DATE\"  |\n",
      "-------------------------------------------------------------------------------\n",
      "|2983             |3.0                 |0.631813198333  |2023-10-19           |\n",
      "|31979            |3.0                 |0.805555555     |2023-07-18           |\n",
      "|49441            |2.0                 |0.92392652      |2023-06-13           |\n",
      "|11468            |1.6666666666666667  |0.793919714     |2023-08-14           |\n",
      "|39094            |4.0                 |0.66685159375   |2023-10-23           |\n",
      "|64993            |2.3333333333333335  |0.727602398571  |2023-05-09           |\n",
      "|22784            |2.0                 |0.58138426      |2023-02-14           |\n",
      "|56016            |3.0                 |0.751552122222  |2023-10-20           |\n",
      "|56               |3.0                 |0.918711891111  |2023-08-14           |\n",
      "|47520            |5.0                 |0.603445594     |2023-07-03           |\n",
      "-------------------------------------------------------------------------------\n",
      "\n"
     ]
    }
   ],
   "source": [
    "preprocessed_data.show()"
   ]
  },
  {
   "cell_type": "markdown",
   "metadata": {},
   "source": [
    "### Create Preprocessing FeatureView from Preprocess Dataframe (SQL)"
   ]
  },
  {
   "cell_type": "code",
   "execution_count": 29,
   "metadata": {
    "metadata": {}
   },
   "outputs": [
    {
     "name": "stdout",
     "output_type": "stream",
     "text": [
      "Feature View : FV_UC01_PREPROCESS_V_1 already created\n",
      "---------------------------------------------------------------------------------------------------------------------------------------------------------------------------------------\n",
      "|\"NAME\"              |\"VERSION\"  |\"DATABASE_NAME\"           |\"SCHEMA_NAME\"            |\"CREATED_ON\"                |\"OWNER\"          |\"DESC\"                           |\"ENTITIES\"    |\n",
      "---------------------------------------------------------------------------------------------------------------------------------------------------------------------------------------\n",
      "|FV_UC01_PREPROCESS  |V_1        |TPCXAI_SF0001_QUICKSTART  |_TRAINING_FEATURE_STORE  |2025-01-28 02:01:08.757000  |ULTRASONIC_ROLE  |Features to support Use Case 01  |[             |\n",
      "|                    |           |                          |                         |                            |                 |                                 |  \"CUSTOMER\"  |\n",
      "|                    |           |                          |                         |                            |                 |                                 |]             |\n",
      "---------------------------------------------------------------------------------------------------------------------------------------------------------------------------------------\n",
      "\n"
     ]
    }
   ],
   "source": [
    "# Define descriptions for the FeatureView's Features.  These will be added as comments to the database object\n",
    "preprocess_features_desc = {  \"FREQUENCY\":\"Average yearly order frequency\",\n",
    "                              \"RETURN_RATIO\":\"Average of, Per Order Returns Ratio.  Per order returns ratio : total returns value / total order value\" }\n",
    "\n",
    "ppd_fv_name    = \"FV_UC01_PREPROCESS\"\n",
    "ppd_fv_version = \"V_1\"\n",
    "\n",
    "try:\n",
    "   # If FeatureView already exists just return the reference to it\n",
    "   fv_uc01_preprocess = fs.get_feature_view(name=ppd_fv_name,version=ppd_fv_version)\n",
    "except:\n",
    "   # Create the FeatureView instance\n",
    "   fv_uc01_preprocess_instance = FeatureView(\n",
    "      name=ppd_fv_name, \n",
    "      entities=[customer_entity], \n",
    "      #feature_df=preprocessed_data,      # <- We can use the snowpark dataframe as-is from our Python\n",
    "      feature_df=session.sql(ppd_sql),    # <- Or we can use SQL, in this case linted from the dataframe generated SQL to make more human readable\n",
    "      timestamp_col=\"LATEST_ORDER_DATE\",\n",
    "      refresh_freq=\"60 minute\",            # <- specifying optional refresh_freq creates FeatureView as Dynamic Table, else created as View.\n",
    "      desc=\"Features to support Use Case 01\").attach_feature_desc(preprocess_features_desc)\n",
    "\n",
    "   # Register the FeatureView instance.  Creates  object in Snowflake\n",
    "   fv_uc01_preprocess = fs.register_feature_view(\n",
    "      feature_view=fv_uc01_preprocess_instance, \n",
    "      version=ppd_fv_version, \n",
    "      block=True\n",
    "   )\n",
    "   print(f\"Feature View : {ppd_fv_name}_{ppd_fv_version} created\")   \n",
    "else:\n",
    "   print(f\"Feature View : {ppd_fv_name}_{ppd_fv_version} already created\")\n",
    "finally:\n",
    "   fs.list_feature_views().show(20)"
   ]
  },
  {
   "cell_type": "code",
   "execution_count": 30,
   "metadata": {
    "metadata": {}
   },
   "outputs": [
    {
     "name": "stdout",
     "output_type": "stream",
     "text": [
      "----------------------------------------------------------------------------------------------------------------------------------------------------------------------------------------------------------------------------------------------------------------------------------------------------------------------------------------------------------------------------------------------------------------------------------------------------------------------------------------------------\n",
      "|\"NAME\"              |\"ENTITIES\"                               |\"TIMESTAMP_COL\"    |\"DESC\"                           |\"QUERY\"                                             |\"VERSION\"  |\"STATUS\"                  |\"FEATURE_DESC\"                                      |\"REFRESH_FREQ\"  |\"DATABASE\"                |\"SCHEMA\"                 |\"WAREHOUSE\"  |\"REFRESH_MODE\"  |\"REFRESH_MODE_REASON\"  |\"OWNER\"          |\"INFER_SCHEMA_QUERY\"                                |\"PHYSICAL_NAME\"         |\n",
      "----------------------------------------------------------------------------------------------------------------------------------------------------------------------------------------------------------------------------------------------------------------------------------------------------------------------------------------------------------------------------------------------------------------------------------------------------------------------------------------------------\n",
      "|FV_UC01_PREPROCESS  |[                                        |LATEST_ORDER_DATE  |Features to support Use Case 01  |WITH SNOWPARK_LEFT AS (                             |V_1        |FeatureViewStatus.STATIC  |{                                                   |NULL            |TPCXAI_SF0001_QUICKSTART  |_TRAINING_FEATURE_STORE  |NULL         |NULL            |NULL                   |ULTRASONIC_ROLE  |SELECT * FROM TPCXAI_SF0001_QUICKSTART._TRAININ...  |FV_UC01_PREPROCESS$V_1  |\n",
      "|                    |  {                                      |                   |                                 |  SELECT                                            |           |                          |  \"FREQUENCY\": \"Average yearly order frequency\",    |                |                          |                         |             |                |                       |                 |                                                    |                        |\n",
      "|                    |    \"desc\": \"Primary Key for CUSTOMER\",  |                   |                                 |    \"LI_ORDER_ID\" AS \"LI_ORDER_ID\",                 |           |                          |  \"RETURN_RATIO\": \"Average of, Per Order Return...  |                |                          |                         |             |                |                       |                 |                                                    |                        |\n",
      "|                    |    \"join_keys\": [                       |                   |                                 |    \"LI_PRODUCT_ID\" AS \"LI_PRODUCT_ID\",             |           |                          |}                                                   |                |                          |                         |             |                |                       |                 |                                                    |                        |\n",
      "|                    |      \"O_CUSTOMER_SK\"                    |                   |                                 |    \"QUANTITY\" AS \"QUANTITY\",                       |           |                          |                                                    |                |                          |                         |             |                |                       |                 |                                                    |                        |\n",
      "|                    |    ],                                   |                   |                                 |    \"PRICE\" AS \"PRICE\"                              |           |                          |                                                    |                |                          |                         |             |                |                       |                 |                                                    |                        |\n",
      "|                    |    \"name\": \"CUSTOMER\",                  |                   |                                 |  FROM TPCXAI_SF0001_QUICKSTART.TRAINING.LINEITEM   |           |                          |                                                    |                |                          |                         |             |                |                       |                 |                                                    |                        |\n",
      "|                    |    \"owner\": null                        |                   |                                 |), SNOWPARK_RIGHT AS (                              |           |                          |                                                    |                |                          |                         |             |                |                       |                 |                                                    |                        |\n",
      "|                    |  }                                      |                   |                                 |  SELECT                                            |           |                          |                                                    |                |                          |                         |             |                |                       |                 |                                                    |                        |\n",
      "|                    |]                                        |                   |                                 |    \"OR_ORDER_ID\" AS \"OR_ORDER_ID\",                 |           |                          |                                                    |                |                          |                         |             |                |                       |                 |                                                    |                        |\n",
      "|                    |                                         |                   |                                 |    \"OR_PRODUCT_ID\" AS \"OR_PRODUCT_ID\",             |           |                          |                                                    |                |                          |                         |             |                |                       |                 |                                                    |                        |\n",
      "|                    |                                         |                   |                                 |    \"OR_RETURN_QUANTITY\" AS \"OR_RETURN_QUANTITY\"    |           |                          |                                                    |                |                          |                         |             |                |                       |                 |                                                    |                        |\n",
      "|                    |                                         |                   |                                 |  FROM TPCXAI_SF0001_QUICKSTART.TRAINING.ORDER_...  |           |                          |                                                    |                |                          |                         |             |                |                       |                 |                                                    |                        |\n",
      "|                    |                                         |                   |                                 |), cte AS (                                         |           |                          |                                                    |                |                          |                         |             |                |                       |                 |                                                    |                        |\n",
      "|                    |                                         |                   |                                 |  SELECT                                            |           |                          |                                                    |                |                          |                         |             |                |                       |                 |                                                    |                        |\n",
      "|                    |                                         |                   |                                 |    *                                               |           |                          |                                                    |                |                          |                         |             |                |                       |                 |                                                    |                        |\n",
      "|                    |                                         |                   |                                 |  FROM (                                            |           |                          |                                                    |                |                          |                         |             |                |                       |                 |                                                    |                        |\n",
      "|                    |                                         |                   |                                 |    SNOWPARK_LEFT AS SNOWPARK_LEFT                  |           |                          |                                                    |                |                          |                         |             |                |                       |                 |                                                    |                        |\n",
      "|                    |                                         |                   |                                 |      LEFT OUTER JOIN SNOWPARK_RIGHT AS SNOWPAR...  |           |                          |                                                    |                |                          |                         |             |                |                       |                 |                                                    |                        |\n",
      "|                    |                                         |                   |                                 |        ON (                                        |           |                          |                                                    |                |                          |                         |             |                |                       |                 |                                                    |                        |\n",
      "|                    |                                         |                   |                                 |          (                                         |           |                          |                                                    |                |                          |                         |             |                |                       |                 |                                                    |                        |\n",
      "|                    |                                         |                   |                                 |            \"LI_ORDER_ID\" = \"OR_ORDER_ID\"           |           |                          |                                                    |                |                          |                         |             |                |                       |                 |                                                    |                        |\n",
      "|                    |                                         |                   |                                 |          ) AND (                                   |           |                          |                                                    |                |                          |                         |             |                |                       |                 |                                                    |                        |\n",
      "|                    |                                         |                   |                                 |            \"LI_PRODUCT_ID\" = \"OR_PRODUCT_ID\"       |           |                          |                                                    |                |                          |                         |             |                |                       |                 |                                                    |                        |\n",
      "|                    |                                         |                   |                                 |          )                                         |           |                          |                                                    |                |                          |                         |             |                |                       |                 |                                                    |                        |\n",
      "|                    |                                         |                   |                                 |        )                                           |           |                          |                                                    |                |                          |                         |             |                |                       |                 |                                                    |                        |\n",
      "|                    |                                         |                   |                                 |  )                                                 |           |                          |                                                    |                |                          |                         |             |                |                       |                 |                                                    |                        |\n",
      "|                    |                                         |                   |                                 |), SNOWPARK_LEFT_2 AS (                             |           |                          |                                                    |                |                          |                         |             |                |                       |                 |                                                    |                        |\n",
      "|                    |                                         |                   |                                 |  SELECT                                            |           |                          |                                                    |                |                          |                         |             |                |                       |                 |                                                    |                        |\n",
      "|                    |                                         |                   |                                 |    \"LI_ORDER_ID\" AS \"LI_ORDER_ID\",                 |           |                          |                                                    |                |                          |                         |             |                |                       |                 |                                                    |                        |\n",
      "|                    |                                         |                   |                                 |    \"LI_PRODUCT_ID\" AS \"LI_PRODUCT_ID\",             |           |                          |                                                    |                |                          |                         |             |                |                       |                 |                                                    |                        |\n",
      "|                    |                                         |                   |                                 |    \"QUANTITY\" AS \"QUANTITY\",                       |           |                          |                                                    |                |                          |                         |             |                |                       |                 |                                                    |                        |\n",
      "|                    |                                         |                   |                                 |    \"PRICE\" AS \"PRICE\",                             |           |                          |                                                    |                |                          |                         |             |                |                       |                 |                                                    |                        |\n",
      "|                    |                                         |                   |                                 |    \"OR_ORDER_ID\" AS \"OR_ORDER_ID\",                 |           |                          |                                                    |                |                          |                         |             |                |                       |                 |                                                    |                        |\n",
      "|                    |                                         |                   |                                 |    \"OR_PRODUCT_ID\" AS \"OR_PRODUCT_ID\",             |           |                          |                                                    |                |                          |                         |             |                |                       |                 |                                                    |                        |\n",
      "|                    |                                         |                   |                                 |    \"OR_RETURN_QUANTITY\" AS \"OR_RETURN_QUANTITY\"    |           |                          |                                                    |                |                          |                         |             |                |                       |                 |                                                    |                        |\n",
      "|                    |                                         |                   |                                 |  FROM cte AS cte                                   |           |                          |                                                    |                |                          |                         |             |                |                       |                 |                                                    |                        |\n",
      "|                    |                                         |                   |                                 |), SNOWPARK_RIGHT_2 AS (                            |           |                          |                                                    |                |                          |                         |             |                |                       |                 |                                                    |                        |\n",
      "|                    |                                         |                   |                                 |  SELECT                                            |           |                          |                                                    |                |                          |                         |             |                |                       |                 |                                                    |                        |\n",
      "|                    |                                         |                   |                                 |    \"O_ORDER_ID\" AS \"O_ORDER_ID\",                   |           |                          |                                                    |                |                          |                         |             |                |                       |                 |                                                    |                        |\n",
      "|                    |                                         |                   |                                 |    \"O_CUSTOMER_SK\" AS \"O_CUSTOMER_SK\",             |           |                          |                                                    |                |                          |                         |             |                |                       |                 |                                                    |                        |\n",
      "|                    |                                         |                   |                                 |    \"ORDER_TS\" AS \"ORDER_TS\",                       |           |                          |                                                    |                |                          |                         |             |                |                       |                 |                                                    |                        |\n",
      "|                    |                                         |                   |                                 |    \"WEEKDAY\" AS \"WEEKDAY\",                         |           |                          |                                                    |                |                          |                         |             |                |                       |                 |                                                    |                        |\n",
      "|                    |                                         |                   |                                 |    \"ORDER_DATE\" AS \"ORDER_DATE\",                   |           |                          |                                                    |                |                          |                         |             |                |                       |                 |                                                    |                        |\n",
      "|                    |                                         |                   |                                 |    \"STORE\" AS \"STORE\",                             |           |                          |                                                    |                |                          |                         |             |                |                       |                 |                                                    |                        |\n",
      "|                    |                                         |                   |                                 |    \"TRIP_TYPE\" AS \"TRIP_TYPE\"                      |           |                          |                                                    |                |                          |                         |             |                |                       |                 |                                                    |                        |\n",
      "|                    |                                         |                   |                                 |  FROM TPCXAI_SF0001_QUICKSTART.TRAINING.ORDERS     |           |                          |                                                    |                |                          |                         |             |                |                       |                 |                                                    |                        |\n",
      "|                    |                                         |                   |                                 |), cte_2 AS (                                       |           |                          |                                                    |                |                          |                         |             |                |                       |                 |                                                    |                        |\n",
      "|                    |                                         |                   |                                 |  SELECT                                            |           |                          |                                                    |                |                          |                         |             |                |                       |                 |                                                    |                        |\n",
      "|                    |                                         |                   |                                 |    *                                               |           |                          |                                                    |                |                          |                         |             |                |                       |                 |                                                    |                        |\n",
      "|                    |                                         |                   |                                 |  FROM (                                            |           |                          |                                                    |                |                          |                         |             |                |                       |                 |                                                    |                        |\n",
      "|                    |                                         |                   |                                 |    SNOWPARK_LEFT_2 AS SNOWPARK_LEFT                |           |                          |                                                    |                |                          |                         |             |                |                       |                 |                                                    |                        |\n",
      "|                    |                                         |                   |                                 |      INNER JOIN SNOWPARK_RIGHT_2 AS SNOWPARK_R...  |           |                          |                                                    |                |                          |                         |             |                |                       |                 |                                                    |                        |\n",
      "|                    |                                         |                   |                                 |        ON (                                        |           |                          |                                                    |                |                          |                         |             |                |                       |                 |                                                    |                        |\n",
      "|                    |                                         |                   |                                 |          \"OR_ORDER_ID\" = \"O_ORDER_ID\"              |           |                          |                                                    |                |                          |                         |             |                |                       |                 |                                                    |                        |\n",
      "|                    |                                         |                   |                                 |        )                                           |           |                          |                                                    |                |                          |                         |             |                |                       |                 |                                                    |                        |\n",
      "|                    |                                         |                   |                                 |  )                                                 |           |                          |                                                    |                |                          |                         |             |                |                       |                 |                                                    |                        |\n",
      "|                    |                                         |                   |                                 |), cte_3 AS (                                       |           |                          |                                                    |                |                          |                         |             |                |                       |                 |                                                    |                        |\n",
      "|                    |                                         |                   |                                 |  SELECT                                            |           |                          |                                                    |                |                          |                         |             |                |                       |                 |                                                    |                        |\n",
      "|                    |                                         |                   |                                 |    IFF(\"O_ORDER_ID\" IS NULL, 0, \"O_ORDER_ID\") ...  |           |                          |                                                    |                |                          |                         |             |                |                       |                 |                                                    |                        |\n",
      "|                    |                                         |                   |                                 |    IFF(\"O_CUSTOMER_SK\" IS NULL, 0, \"O_CUSTOMER...  |           |                          |                                                    |                |                          |                         |             |                |                       |                 |                                                    |                        |\n",
      "|                    |                                         |                   |                                 |    IFF(\"ORDER_DATE\" IS NULL, CAST('1970-01-01'...  |           |                          |                                                    |                |                          |                         |             |                |                       |                 |                                                    |                        |\n",
      "|                    |                                         |                   |                                 |    \"LI_PRODUCT_ID\",                                |           |                          |                                                    |                |                          |                         |             |                |                       |                 |                                                    |                        |\n",
      "|                    |                                         |                   |                                 |    IFF(\"PRICE\" IS NULL, 0.0, \"PRICE\") AS \"PRICE\",  |           |                          |                                                    |                |                          |                         |             |                |                       |                 |                                                    |                        |\n",
      "|                    |                                         |                   |                                 |    IFF(\"QUANTITY\" IS NULL, 0, \"QUANTITY\") AS \"...  |           |                          |                                                    |                |                          |                         |             |                |                       |                 |                                                    |                        |\n",
      "|                    |                                         |                   |                                 |    IFF(\"OR_RETURN_QUANTITY\" IS NULL, 0, \"OR_RE...  |           |                          |                                                    |                |                          |                         |             |                |                       |                 |                                                    |                        |\n",
      "|                    |                                         |                   |                                 |  FROM cte_2 AS cte_2                               |           |                          |                                                    |                |                          |                         |             |                |                       |                 |                                                    |                        |\n",
      "|                    |                                         |                   |                                 |), cte_4 AS (                                       |           |                          |                                                    |                |                          |                         |             |                |                       |                 |                                                    |                        |\n",
      "|                    |                                         |                   |                                 |  SELECT                                            |           |                          |                                                    |                |                          |                         |             |                |                       |                 |                                                    |                        |\n",
      "|                    |                                         |                   |                                 |    \"O_ORDER_ID\",                                   |           |                          |                                                    |                |                          |                         |             |                |                       |                 |                                                    |                        |\n",
      "|                    |                                         |                   |                                 |    \"O_CUSTOMER_SK\",                                |           |                          |                                                    |                |                          |                         |             |                |                       |                 |                                                    |                        |\n",
      "|                    |                                         |                   |                                 |    \"ORDER_DATE\",                                   |           |                          |                                                    |                |                          |                         |             |                |                       |                 |                                                    |                        |\n",
      "|                    |                                         |                   |                                 |    \"LI_PRODUCT_ID\",                                |           |                          |                                                    |                |                          |                         |             |                |                       |                 |                                                    |                        |\n",
      "|                    |                                         |                   |                                 |    \"PRICE\",                                        |           |                          |                                                    |                |                          |                         |             |                |                       |                 |                                                    |                        |\n",
      "|                    |                                         |                   |                                 |    \"QUANTITY\",                                     |           |                          |                                                    |                |                          |                         |             |                |                       |                 |                                                    |                        |\n",
      "|                    |                                         |                   |                                 |    \"OR_RETURN_QUANTITY\",                           |           |                          |                                                    |                |                          |                         |             |                |                       |                 |                                                    |                        |\n",
      "|                    |                                         |                   |                                 |    YEAR(\"ORDER_DATE\") AS \"INVOICE_YEAR\",           |           |                          |                                                    |                |                          |                         |             |                |                       |                 |                                                    |                        |\n",
      "|                    |                                         |                   |                                 |    (                                               |           |                          |                                                    |                |                          |                         |             |                |                       |                 |                                                    |                        |\n",
      "|                    |                                         |                   |                                 |      \"QUANTITY\" * \"PRICE\"                          |           |                          |                                                    |                |                          |                         |             |                |                       |                 |                                                    |                        |\n",
      "|                    |                                         |                   |                                 |    ) AS \"ROW_PRICE\",                               |           |                          |                                                    |                |                          |                         |             |                |                       |                 |                                                    |                        |\n",
      "|                    |                                         |                   |                                 |    (                                               |           |                          |                                                    |                |                          |                         |             |                |                       |                 |                                                    |                        |\n",
      "|                    |                                         |                   |                                 |      \"OR_RETURN_QUANTITY\" * \"PRICE\"                |           |                          |                                                    |                |                          |                         |             |                |                       |                 |                                                    |                        |\n",
      "|                    |                                         |                   |                                 |    ) AS \"RETURN_ROW_PRICE\"                         |           |                          |                                                    |                |                          |                         |             |                |                       |                 |                                                    |                        |\n",
      "|                    |                                         |                   |                                 |  FROM cte_3 AS cte_3                               |           |                          |                                                    |                |                          |                         |             |                |                       |                 |                                                    |                        |\n",
      "|                    |                                         |                   |                                 |), cte_5 AS (                                       |           |                          |                                                    |                |                          |                         |             |                |                       |                 |                                                    |                        |\n",
      "|                    |                                         |                   |                                 |  SELECT                                            |           |                          |                                                    |                |                          |                         |             |                |                       |                 |                                                    |                        |\n",
      "|                    |                                         |                   |                                 |    \"O_CUSTOMER_SK\",                                |           |                          |                                                    |                |                          |                         |             |                |                       |                 |                                                    |                        |\n",
      "|                    |                                         |                   |                                 |    \"O_ORDER_ID\",                                   |           |                          |                                                    |                |                          |                         |             |                |                       |                 |                                                    |                        |\n",
      "|                    |                                         |                   |                                 |    SUM(\"ROW_PRICE\") AS \"ROW_PRICE\",                |           |                          |                                                    |                |                          |                         |             |                |                       |                 |                                                    |                        |\n",
      "|                    |                                         |                   |                                 |    SUM(\"RETURN_ROW_PRICE\") AS \"RETURN_ROW_PRICE\",  |           |                          |                                                    |                |                          |                         |             |                |                       |                 |                                                    |                        |\n",
      "|                    |                                         |                   |                                 |    MIN(\"INVOICE_YEAR\") AS \"INVOICE_YEAR\",          |           |                          |                                                    |                |                          |                         |             |                |                       |                 |                                                    |                        |\n",
      "|                    |                                         |                   |                                 |    MAX(\"ORDER_DATE\") AS \"LATEST_ORDER_DATE\"        |           |                          |                                                    |                |                          |                         |             |                |                       |                 |                                                    |                        |\n",
      "|                    |                                         |                   |                                 |  FROM cte_4 AS cte_4                               |           |                          |                                                    |                |                          |                         |             |                |                       |                 |                                                    |                        |\n",
      "|                    |                                         |                   |                                 |  GROUP BY                                          |           |                          |                                                    |                |                          |                         |             |                |                       |                 |                                                    |                        |\n",
      "|                    |                                         |                   |                                 |    \"O_CUSTOMER_SK\",                                |           |                          |                                                    |                |                          |                         |             |                |                       |                 |                                                    |                        |\n",
      "|                    |                                         |                   |                                 |    \"O_ORDER_ID\"                                    |           |                          |                                                    |                |                          |                         |             |                |                       |                 |                                                    |                        |\n",
      "|                    |                                         |                   |                                 |), cte_6 AS (                                       |           |                          |                                                    |                |                          |                         |             |                |                       |                 |                                                    |                        |\n",
      "|                    |                                         |                   |                                 |  SELECT                                            |           |                          |                                                    |                |                          |                         |             |                |                       |                 |                                                    |                        |\n",
      "|                    |                                         |                   |                                 |    \"O_CUSTOMER_SK\",                                |           |                          |                                                    |                |                          |                         |             |                |                       |                 |                                                    |                        |\n",
      "|                    |                                         |                   |                                 |    \"O_ORDER_ID\",                                   |           |                          |                                                    |                |                          |                         |             |                |                       |                 |                                                    |                        |\n",
      "|                    |                                         |                   |                                 |    \"ROW_PRICE\",                                    |           |                          |                                                    |                |                          |                         |             |                |                       |                 |                                                    |                        |\n",
      "|                    |                                         |                   |                                 |    \"RETURN_ROW_PRICE\",                             |           |                          |                                                    |                |                          |                         |             |                |                       |                 |                                                    |                        |\n",
      "|                    |                                         |                   |                                 |    \"INVOICE_YEAR\",                                 |           |                          |                                                    |                |                          |                         |             |                |                       |                 |                                                    |                        |\n",
      "|                    |                                         |                   |                                 |    \"LATEST_ORDER_DATE\",                            |           |                          |                                                    |                |                          |                         |             |                |                       |                 |                                                    |                        |\n",
      "|                    |                                         |                   |                                 |    (                                               |           |                          |                                                    |                |                          |                         |             |                |                       |                 |                                                    |                        |\n",
      "|                    |                                         |                   |                                 |      \"RETURN_ROW_PRICE\" / \"ROW_PRICE\"              |           |                          |                                                    |                |                          |                         |             |                |                       |                 |                                                    |                        |\n",
      "|                    |                                         |                   |                                 |    ) AS \"RATIO\"                                    |           |                          |                                                    |                |                          |                         |             |                |                       |                 |                                                    |                        |\n",
      "|                    |                                         |                   |                                 |  FROM cte_5 AS cte_5                               |           |                          |                                                    |                |                          |                         |             |                |                       |                 |                                                    |                        |\n",
      "|                    |                                         |                   |                                 |), cte_7 AS (                                       |           |                          |                                                    |                |                          |                         |             |                |                       |                 |                                                    |                        |\n",
      "|                    |                                         |                   |                                 |  SELECT                                            |           |                          |                                                    |                |                          |                         |             |                |                       |                 |                                                    |                        |\n",
      "|                    |                                         |                   |                                 |    \"O_CUSTOMER_SK\",                                |           |                          |                                                    |                |                          |                         |             |                |                       |                 |                                                    |                        |\n",
      "|                    |                                         |                   |                                 |    \"INVOICE_YEAR\",                                 |           |                          |                                                    |                |                          |                         |             |                |                       |                 |                                                    |                        |\n",
      "|                    |                                         |                   |                                 |    CAST(COUNT(\"O_ORDER_ID\") AS FLOAT) AS \"FREQ...  |           |                          |                                                    |                |                          |                         |             |                |                       |                 |                                                    |                        |\n",
      "|                    |                                         |                   |                                 |  FROM cte_6 AS cte_6                               |           |                          |                                                    |                |                          |                         |             |                |                       |                 |                                                    |                        |\n",
      "|                    |                                         |                   |                                 |  GROUP BY                                          |           |                          |                                                    |                |                          |                         |             |                |                       |                 |                                                    |                        |\n",
      "|                    |                                         |                   |                                 |    \"O_CUSTOMER_SK\",                                |           |                          |                                                    |                |                          |                         |             |                |                       |                 |                                                    |                        |\n",
      "|                    |                                         |                   |                                 |    \"INVOICE_YEAR\"                                  |           |                          |                                                    |                |                          |                         |             |                |                       |                 |                                                    |                        |\n",
      "|                    |                                         |                   |                                 |), cte_8 AS (                                       |           |                          |                                                    |                |                          |                         |             |                |                       |                 |                                                    |                        |\n",
      "|                    |                                         |                   |                                 |  SELECT                                            |           |                          |                                                    |                |                          |                         |             |                |                       |                 |                                                    |                        |\n",
      "|                    |                                         |                   |                                 |    \"O_CUSTOMER_SK\",                                |           |                          |                                                    |                |                          |                         |             |                |                       |                 |                                                    |                        |\n",
      "|                    |                                         |                   |                                 |    AVG(\"FREQUENCY\") AS \"FREQUENCY\"                 |           |                          |                                                    |                |                          |                         |             |                |                       |                 |                                                    |                        |\n",
      "|                    |                                         |                   |                                 |  FROM cte_7 AS cte_7                               |           |                          |                                                    |                |                          |                         |             |                |                       |                 |                                                    |                        |\n",
      "|                    |                                         |                   |                                 |  GROUP BY                                          |           |                          |                                                    |                |                          |                         |             |                |                       |                 |                                                    |                        |\n",
      "|                    |                                         |                   |                                 |    \"O_CUSTOMER_SK\"                                 |           |                          |                                                    |                |                          |                         |             |                |                       |                 |                                                    |                        |\n",
      "|                    |                                         |                   |                                 |), SNOWPARK_LEFT_3 AS (                             |           |                          |                                                    |                |                          |                         |             |                |                       |                 |                                                    |                        |\n",
      "|                    |                                         |                   |                                 |  SELECT                                            |           |                          |                                                    |                |                          |                         |             |                |                       |                 |                                                    |                        |\n",
      "|                    |                                         |                   |                                 |    \"O_CUSTOMER_SK\" AS \"O_CUSTOMER_SK\",             |           |                          |                                                    |                |                          |                         |             |                |                       |                 |                                                    |                        |\n",
      "|                    |                                         |                   |                                 |    \"FREQUENCY\" AS \"FREQUENCY\"                      |           |                          |                                                    |                |                          |                         |             |                |                       |                 |                                                    |                        |\n",
      "|                    |                                         |                   |                                 |  FROM cte_8 AS cte_8                               |           |                          |                                                    |                |                          |                         |             |                |                       |                 |                                                    |                        |\n",
      "|                    |                                         |                   |                                 |), cte_9 AS (                                       |           |                          |                                                    |                |                          |                         |             |                |                       |                 |                                                    |                        |\n",
      "|                    |                                         |                   |                                 |  SELECT                                            |           |                          |                                                    |                |                          |                         |             |                |                       |                 |                                                    |                        |\n",
      "|                    |                                         |                   |                                 |    \"O_CUSTOMER_SK\",                                |           |                          |                                                    |                |                          |                         |             |                |                       |                 |                                                    |                        |\n",
      "|                    |                                         |                   |                                 |    CAST(AVG(\"RATIO\") AS FLOAT) AS \"RETURN_RATIO\",  |           |                          |                                                    |                |                          |                         |             |                |                       |                 |                                                    |                        |\n",
      "|                    |                                         |                   |                                 |    MAX(\"LATEST_ORDER_DATE\") AS \"LATEST_ORDER_D...  |           |                          |                                                    |                |                          |                         |             |                |                       |                 |                                                    |                        |\n",
      "|                    |                                         |                   |                                 |  FROM cte_6 AS cte_6                               |           |                          |                                                    |                |                          |                         |             |                |                       |                 |                                                    |                        |\n",
      "|                    |                                         |                   |                                 |  GROUP BY                                          |           |                          |                                                    |                |                          |                         |             |                |                       |                 |                                                    |                        |\n",
      "|                    |                                         |                   |                                 |    \"O_CUSTOMER_SK\"                                 |           |                          |                                                    |                |                          |                         |             |                |                       |                 |                                                    |                        |\n",
      "|                    |                                         |                   |                                 |), SNOWPARK_RIGHT_3 AS (                            |           |                          |                                                    |                |                          |                         |             |                |                       |                 |                                                    |                        |\n",
      "|                    |                                         |                   |                                 |  SELECT                                            |           |                          |                                                    |                |                          |                         |             |                |                       |                 |                                                    |                        |\n",
      "|                    |                                         |                   |                                 |    \"O_CUSTOMER_SK\" AS \"O_CUSTOMER_SK\",             |           |                          |                                                    |                |                          |                         |             |                |                       |                 |                                                    |                        |\n",
      "|                    |                                         |                   |                                 |    \"RETURN_RATIO\" AS \"RETURN_RATIO\",               |           |                          |                                                    |                |                          |                         |             |                |                       |                 |                                                    |                        |\n",
      "|                    |                                         |                   |                                 |    \"LATEST_ORDER_DATE\" AS \"LATEST_ORDER_DATE\"      |           |                          |                                                    |                |                          |                         |             |                |                       |                 |                                                    |                        |\n",
      "|                    |                                         |                   |                                 |  FROM cte_9 AS cte_9                               |           |                          |                                                    |                |                          |                         |             |                |                       |                 |                                                    |                        |\n",
      "|                    |                                         |                   |                                 |)                                                   |           |                          |                                                    |                |                          |                         |             |                |                       |                 |                                                    |                        |\n",
      "|                    |                                         |                   |                                 |SELECT                                              |           |                          |                                                    |                |                          |                         |             |                |                       |                 |                                                    |                        |\n",
      "|                    |                                         |                   |                                 |  *                                                 |           |                          |                                                    |                |                          |                         |             |                |                       |                 |                                                    |                        |\n",
      "|                    |                                         |                   |                                 |FROM (                                              |           |                          |                                                    |                |                          |                         |             |                |                       |                 |                                                    |                        |\n",
      "|                    |                                         |                   |                                 |  SNOWPARK_LEFT_3 AS SNOWPARK_LEFT                  |           |                          |                                                    |                |                          |                         |             |                |                       |                 |                                                    |                        |\n",
      "|                    |                                         |                   |                                 |    INNER JOIN SNOWPARK_RIGHT_3 AS SNOWPARK_RIGHT   |           |                          |                                                    |                |                          |                         |             |                |                       |                 |                                                    |                        |\n",
      "|                    |                                         |                   |                                 |      USING (O_CUSTOMER_SK)                         |           |                          |                                                    |                |                          |                         |             |                |                       |                 |                                                    |                        |\n",
      "|                    |                                         |                   |                                 |)                                                   |           |                          |                                                    |                |                          |                         |             |                |                       |                 |                                                    |                        |\n",
      "----------------------------------------------------------------------------------------------------------------------------------------------------------------------------------------------------------------------------------------------------------------------------------------------------------------------------------------------------------------------------------------------------------------------------------------------------------------------------------------------------\n",
      "\n"
     ]
    }
   ],
   "source": [
    "# You can also use the following to retrieve a Feature View instance for use within Python\n",
    "FV_UC01_PREPROCESS_V_1 = fs.get_feature_view(ppd_fv_name, 'V_1')\n",
    "# and show it's definition.  Note the formatted SQL.\n",
    "FV_UC01_PREPROCESS_V_1.to_df(session).show()"
   ]
  },
  {
   "cell_type": "code",
   "execution_count": 31,
   "metadata": {},
   "outputs": [
    {
     "name": "stdout",
     "output_type": "stream",
     "text": [
      "----------------------------------------------------------------------------------------------------------------------------------------------------------------------------------------------------------------------------------------------------------------------------------------------------------------------------------------------------------------------------------------------------------------------------------------------------------------------------------------------------\n",
      "|\"NAME\"              |\"ENTITIES\"                               |\"TIMESTAMP_COL\"    |\"DESC\"                           |\"QUERY\"                                             |\"VERSION\"  |\"STATUS\"                  |\"FEATURE_DESC\"                                      |\"REFRESH_FREQ\"  |\"DATABASE\"                |\"SCHEMA\"                 |\"WAREHOUSE\"  |\"REFRESH_MODE\"  |\"REFRESH_MODE_REASON\"  |\"OWNER\"          |\"INFER_SCHEMA_QUERY\"                                |\"PHYSICAL_NAME\"         |\n",
      "----------------------------------------------------------------------------------------------------------------------------------------------------------------------------------------------------------------------------------------------------------------------------------------------------------------------------------------------------------------------------------------------------------------------------------------------------------------------------------------------------\n",
      "|FV_UC01_PREPROCESS  |[                                        |LATEST_ORDER_DATE  |Features to support Use Case 01  |WITH SNOWPARK_LEFT AS (                             |V_1        |FeatureViewStatus.STATIC  |{                                                   |NULL            |TPCXAI_SF0001_QUICKSTART  |_TRAINING_FEATURE_STORE  |NULL         |NULL            |NULL                   |ULTRASONIC_ROLE  |SELECT * FROM TPCXAI_SF0001_QUICKSTART._TRAININ...  |FV_UC01_PREPROCESS$V_1  |\n",
      "|                    |  {                                      |                   |                                 |  SELECT                                            |           |                          |  \"FREQUENCY\": \"Average yearly order frequency\",    |                |                          |                         |             |                |                       |                 |                                                    |                        |\n",
      "|                    |    \"desc\": \"Primary Key for CUSTOMER\",  |                   |                                 |    \"LI_ORDER_ID\" AS \"LI_ORDER_ID\",                 |           |                          |  \"RETURN_RATIO\": \"Average of, Per Order Return...  |                |                          |                         |             |                |                       |                 |                                                    |                        |\n",
      "|                    |    \"join_keys\": [                       |                   |                                 |    \"LI_PRODUCT_ID\" AS \"LI_PRODUCT_ID\",             |           |                          |}                                                   |                |                          |                         |             |                |                       |                 |                                                    |                        |\n",
      "|                    |      \"O_CUSTOMER_SK\"                    |                   |                                 |    \"QUANTITY\" AS \"QUANTITY\",                       |           |                          |                                                    |                |                          |                         |             |                |                       |                 |                                                    |                        |\n",
      "|                    |    ],                                   |                   |                                 |    \"PRICE\" AS \"PRICE\"                              |           |                          |                                                    |                |                          |                         |             |                |                       |                 |                                                    |                        |\n",
      "|                    |    \"name\": \"CUSTOMER\",                  |                   |                                 |  FROM TPCXAI_SF0001_QUICKSTART.TRAINING.LINEITEM   |           |                          |                                                    |                |                          |                         |             |                |                       |                 |                                                    |                        |\n",
      "|                    |    \"owner\": null                        |                   |                                 |), SNOWPARK_RIGHT AS (                              |           |                          |                                                    |                |                          |                         |             |                |                       |                 |                                                    |                        |\n",
      "|                    |  }                                      |                   |                                 |  SELECT                                            |           |                          |                                                    |                |                          |                         |             |                |                       |                 |                                                    |                        |\n",
      "|                    |]                                        |                   |                                 |    \"OR_ORDER_ID\" AS \"OR_ORDER_ID\",                 |           |                          |                                                    |                |                          |                         |             |                |                       |                 |                                                    |                        |\n",
      "|                    |                                         |                   |                                 |    \"OR_PRODUCT_ID\" AS \"OR_PRODUCT_ID\",             |           |                          |                                                    |                |                          |                         |             |                |                       |                 |                                                    |                        |\n",
      "|                    |                                         |                   |                                 |    \"OR_RETURN_QUANTITY\" AS \"OR_RETURN_QUANTITY\"    |           |                          |                                                    |                |                          |                         |             |                |                       |                 |                                                    |                        |\n",
      "|                    |                                         |                   |                                 |  FROM TPCXAI_SF0001_QUICKSTART.TRAINING.ORDER_...  |           |                          |                                                    |                |                          |                         |             |                |                       |                 |                                                    |                        |\n",
      "|                    |                                         |                   |                                 |), cte AS (                                         |           |                          |                                                    |                |                          |                         |             |                |                       |                 |                                                    |                        |\n",
      "|                    |                                         |                   |                                 |  SELECT                                            |           |                          |                                                    |                |                          |                         |             |                |                       |                 |                                                    |                        |\n",
      "|                    |                                         |                   |                                 |    *                                               |           |                          |                                                    |                |                          |                         |             |                |                       |                 |                                                    |                        |\n",
      "|                    |                                         |                   |                                 |  FROM (                                            |           |                          |                                                    |                |                          |                         |             |                |                       |                 |                                                    |                        |\n",
      "|                    |                                         |                   |                                 |    SNOWPARK_LEFT AS SNOWPARK_LEFT                  |           |                          |                                                    |                |                          |                         |             |                |                       |                 |                                                    |                        |\n",
      "|                    |                                         |                   |                                 |      LEFT OUTER JOIN SNOWPARK_RIGHT AS SNOWPAR...  |           |                          |                                                    |                |                          |                         |             |                |                       |                 |                                                    |                        |\n",
      "|                    |                                         |                   |                                 |        ON (                                        |           |                          |                                                    |                |                          |                         |             |                |                       |                 |                                                    |                        |\n",
      "|                    |                                         |                   |                                 |          (                                         |           |                          |                                                    |                |                          |                         |             |                |                       |                 |                                                    |                        |\n",
      "|                    |                                         |                   |                                 |            \"LI_ORDER_ID\" = \"OR_ORDER_ID\"           |           |                          |                                                    |                |                          |                         |             |                |                       |                 |                                                    |                        |\n",
      "|                    |                                         |                   |                                 |          ) AND (                                   |           |                          |                                                    |                |                          |                         |             |                |                       |                 |                                                    |                        |\n",
      "|                    |                                         |                   |                                 |            \"LI_PRODUCT_ID\" = \"OR_PRODUCT_ID\"       |           |                          |                                                    |                |                          |                         |             |                |                       |                 |                                                    |                        |\n",
      "|                    |                                         |                   |                                 |          )                                         |           |                          |                                                    |                |                          |                         |             |                |                       |                 |                                                    |                        |\n",
      "|                    |                                         |                   |                                 |        )                                           |           |                          |                                                    |                |                          |                         |             |                |                       |                 |                                                    |                        |\n",
      "|                    |                                         |                   |                                 |  )                                                 |           |                          |                                                    |                |                          |                         |             |                |                       |                 |                                                    |                        |\n",
      "|                    |                                         |                   |                                 |), SNOWPARK_LEFT_2 AS (                             |           |                          |                                                    |                |                          |                         |             |                |                       |                 |                                                    |                        |\n",
      "|                    |                                         |                   |                                 |  SELECT                                            |           |                          |                                                    |                |                          |                         |             |                |                       |                 |                                                    |                        |\n",
      "|                    |                                         |                   |                                 |    \"LI_ORDER_ID\" AS \"LI_ORDER_ID\",                 |           |                          |                                                    |                |                          |                         |             |                |                       |                 |                                                    |                        |\n",
      "|                    |                                         |                   |                                 |    \"LI_PRODUCT_ID\" AS \"LI_PRODUCT_ID\",             |           |                          |                                                    |                |                          |                         |             |                |                       |                 |                                                    |                        |\n",
      "|                    |                                         |                   |                                 |    \"QUANTITY\" AS \"QUANTITY\",                       |           |                          |                                                    |                |                          |                         |             |                |                       |                 |                                                    |                        |\n",
      "|                    |                                         |                   |                                 |    \"PRICE\" AS \"PRICE\",                             |           |                          |                                                    |                |                          |                         |             |                |                       |                 |                                                    |                        |\n",
      "|                    |                                         |                   |                                 |    \"OR_ORDER_ID\" AS \"OR_ORDER_ID\",                 |           |                          |                                                    |                |                          |                         |             |                |                       |                 |                                                    |                        |\n",
      "|                    |                                         |                   |                                 |    \"OR_PRODUCT_ID\" AS \"OR_PRODUCT_ID\",             |           |                          |                                                    |                |                          |                         |             |                |                       |                 |                                                    |                        |\n",
      "|                    |                                         |                   |                                 |    \"OR_RETURN_QUANTITY\" AS \"OR_RETURN_QUANTITY\"    |           |                          |                                                    |                |                          |                         |             |                |                       |                 |                                                    |                        |\n",
      "|                    |                                         |                   |                                 |  FROM cte AS cte                                   |           |                          |                                                    |                |                          |                         |             |                |                       |                 |                                                    |                        |\n",
      "|                    |                                         |                   |                                 |), SNOWPARK_RIGHT_2 AS (                            |           |                          |                                                    |                |                          |                         |             |                |                       |                 |                                                    |                        |\n",
      "|                    |                                         |                   |                                 |  SELECT                                            |           |                          |                                                    |                |                          |                         |             |                |                       |                 |                                                    |                        |\n",
      "|                    |                                         |                   |                                 |    \"O_ORDER_ID\" AS \"O_ORDER_ID\",                   |           |                          |                                                    |                |                          |                         |             |                |                       |                 |                                                    |                        |\n",
      "|                    |                                         |                   |                                 |    \"O_CUSTOMER_SK\" AS \"O_CUSTOMER_SK\",             |           |                          |                                                    |                |                          |                         |             |                |                       |                 |                                                    |                        |\n",
      "|                    |                                         |                   |                                 |    \"ORDER_TS\" AS \"ORDER_TS\",                       |           |                          |                                                    |                |                          |                         |             |                |                       |                 |                                                    |                        |\n",
      "|                    |                                         |                   |                                 |    \"WEEKDAY\" AS \"WEEKDAY\",                         |           |                          |                                                    |                |                          |                         |             |                |                       |                 |                                                    |                        |\n",
      "|                    |                                         |                   |                                 |    \"ORDER_DATE\" AS \"ORDER_DATE\",                   |           |                          |                                                    |                |                          |                         |             |                |                       |                 |                                                    |                        |\n",
      "|                    |                                         |                   |                                 |    \"STORE\" AS \"STORE\",                             |           |                          |                                                    |                |                          |                         |             |                |                       |                 |                                                    |                        |\n",
      "|                    |                                         |                   |                                 |    \"TRIP_TYPE\" AS \"TRIP_TYPE\"                      |           |                          |                                                    |                |                          |                         |             |                |                       |                 |                                                    |                        |\n",
      "|                    |                                         |                   |                                 |  FROM TPCXAI_SF0001_QUICKSTART.TRAINING.ORDERS     |           |                          |                                                    |                |                          |                         |             |                |                       |                 |                                                    |                        |\n",
      "|                    |                                         |                   |                                 |), cte_2 AS (                                       |           |                          |                                                    |                |                          |                         |             |                |                       |                 |                                                    |                        |\n",
      "|                    |                                         |                   |                                 |  SELECT                                            |           |                          |                                                    |                |                          |                         |             |                |                       |                 |                                                    |                        |\n",
      "|                    |                                         |                   |                                 |    *                                               |           |                          |                                                    |                |                          |                         |             |                |                       |                 |                                                    |                        |\n",
      "|                    |                                         |                   |                                 |  FROM (                                            |           |                          |                                                    |                |                          |                         |             |                |                       |                 |                                                    |                        |\n",
      "|                    |                                         |                   |                                 |    SNOWPARK_LEFT_2 AS SNOWPARK_LEFT                |           |                          |                                                    |                |                          |                         |             |                |                       |                 |                                                    |                        |\n",
      "|                    |                                         |                   |                                 |      INNER JOIN SNOWPARK_RIGHT_2 AS SNOWPARK_R...  |           |                          |                                                    |                |                          |                         |             |                |                       |                 |                                                    |                        |\n",
      "|                    |                                         |                   |                                 |        ON (                                        |           |                          |                                                    |                |                          |                         |             |                |                       |                 |                                                    |                        |\n",
      "|                    |                                         |                   |                                 |          \"OR_ORDER_ID\" = \"O_ORDER_ID\"              |           |                          |                                                    |                |                          |                         |             |                |                       |                 |                                                    |                        |\n",
      "|                    |                                         |                   |                                 |        )                                           |           |                          |                                                    |                |                          |                         |             |                |                       |                 |                                                    |                        |\n",
      "|                    |                                         |                   |                                 |  )                                                 |           |                          |                                                    |                |                          |                         |             |                |                       |                 |                                                    |                        |\n",
      "|                    |                                         |                   |                                 |), cte_3 AS (                                       |           |                          |                                                    |                |                          |                         |             |                |                       |                 |                                                    |                        |\n",
      "|                    |                                         |                   |                                 |  SELECT                                            |           |                          |                                                    |                |                          |                         |             |                |                       |                 |                                                    |                        |\n",
      "|                    |                                         |                   |                                 |    IFF(\"O_ORDER_ID\" IS NULL, 0, \"O_ORDER_ID\") ...  |           |                          |                                                    |                |                          |                         |             |                |                       |                 |                                                    |                        |\n",
      "|                    |                                         |                   |                                 |    IFF(\"O_CUSTOMER_SK\" IS NULL, 0, \"O_CUSTOMER...  |           |                          |                                                    |                |                          |                         |             |                |                       |                 |                                                    |                        |\n",
      "|                    |                                         |                   |                                 |    IFF(\"ORDER_DATE\" IS NULL, CAST('1970-01-01'...  |           |                          |                                                    |                |                          |                         |             |                |                       |                 |                                                    |                        |\n",
      "|                    |                                         |                   |                                 |    \"LI_PRODUCT_ID\",                                |           |                          |                                                    |                |                          |                         |             |                |                       |                 |                                                    |                        |\n",
      "|                    |                                         |                   |                                 |    IFF(\"PRICE\" IS NULL, 0.0, \"PRICE\") AS \"PRICE\",  |           |                          |                                                    |                |                          |                         |             |                |                       |                 |                                                    |                        |\n",
      "|                    |                                         |                   |                                 |    IFF(\"QUANTITY\" IS NULL, 0, \"QUANTITY\") AS \"...  |           |                          |                                                    |                |                          |                         |             |                |                       |                 |                                                    |                        |\n",
      "|                    |                                         |                   |                                 |    IFF(\"OR_RETURN_QUANTITY\" IS NULL, 0, \"OR_RE...  |           |                          |                                                    |                |                          |                         |             |                |                       |                 |                                                    |                        |\n",
      "|                    |                                         |                   |                                 |  FROM cte_2 AS cte_2                               |           |                          |                                                    |                |                          |                         |             |                |                       |                 |                                                    |                        |\n",
      "|                    |                                         |                   |                                 |), cte_4 AS (                                       |           |                          |                                                    |                |                          |                         |             |                |                       |                 |                                                    |                        |\n",
      "|                    |                                         |                   |                                 |  SELECT                                            |           |                          |                                                    |                |                          |                         |             |                |                       |                 |                                                    |                        |\n",
      "|                    |                                         |                   |                                 |    \"O_ORDER_ID\",                                   |           |                          |                                                    |                |                          |                         |             |                |                       |                 |                                                    |                        |\n",
      "|                    |                                         |                   |                                 |    \"O_CUSTOMER_SK\",                                |           |                          |                                                    |                |                          |                         |             |                |                       |                 |                                                    |                        |\n",
      "|                    |                                         |                   |                                 |    \"ORDER_DATE\",                                   |           |                          |                                                    |                |                          |                         |             |                |                       |                 |                                                    |                        |\n",
      "|                    |                                         |                   |                                 |    \"LI_PRODUCT_ID\",                                |           |                          |                                                    |                |                          |                         |             |                |                       |                 |                                                    |                        |\n",
      "|                    |                                         |                   |                                 |    \"PRICE\",                                        |           |                          |                                                    |                |                          |                         |             |                |                       |                 |                                                    |                        |\n",
      "|                    |                                         |                   |                                 |    \"QUANTITY\",                                     |           |                          |                                                    |                |                          |                         |             |                |                       |                 |                                                    |                        |\n",
      "|                    |                                         |                   |                                 |    \"OR_RETURN_QUANTITY\",                           |           |                          |                                                    |                |                          |                         |             |                |                       |                 |                                                    |                        |\n",
      "|                    |                                         |                   |                                 |    YEAR(\"ORDER_DATE\") AS \"INVOICE_YEAR\",           |           |                          |                                                    |                |                          |                         |             |                |                       |                 |                                                    |                        |\n",
      "|                    |                                         |                   |                                 |    (                                               |           |                          |                                                    |                |                          |                         |             |                |                       |                 |                                                    |                        |\n",
      "|                    |                                         |                   |                                 |      \"QUANTITY\" * \"PRICE\"                          |           |                          |                                                    |                |                          |                         |             |                |                       |                 |                                                    |                        |\n",
      "|                    |                                         |                   |                                 |    ) AS \"ROW_PRICE\",                               |           |                          |                                                    |                |                          |                         |             |                |                       |                 |                                                    |                        |\n",
      "|                    |                                         |                   |                                 |    (                                               |           |                          |                                                    |                |                          |                         |             |                |                       |                 |                                                    |                        |\n",
      "|                    |                                         |                   |                                 |      \"OR_RETURN_QUANTITY\" * \"PRICE\"                |           |                          |                                                    |                |                          |                         |             |                |                       |                 |                                                    |                        |\n",
      "|                    |                                         |                   |                                 |    ) AS \"RETURN_ROW_PRICE\"                         |           |                          |                                                    |                |                          |                         |             |                |                       |                 |                                                    |                        |\n",
      "|                    |                                         |                   |                                 |  FROM cte_3 AS cte_3                               |           |                          |                                                    |                |                          |                         |             |                |                       |                 |                                                    |                        |\n",
      "|                    |                                         |                   |                                 |), cte_5 AS (                                       |           |                          |                                                    |                |                          |                         |             |                |                       |                 |                                                    |                        |\n",
      "|                    |                                         |                   |                                 |  SELECT                                            |           |                          |                                                    |                |                          |                         |             |                |                       |                 |                                                    |                        |\n",
      "|                    |                                         |                   |                                 |    \"O_CUSTOMER_SK\",                                |           |                          |                                                    |                |                          |                         |             |                |                       |                 |                                                    |                        |\n",
      "|                    |                                         |                   |                                 |    \"O_ORDER_ID\",                                   |           |                          |                                                    |                |                          |                         |             |                |                       |                 |                                                    |                        |\n",
      "|                    |                                         |                   |                                 |    SUM(\"ROW_PRICE\") AS \"ROW_PRICE\",                |           |                          |                                                    |                |                          |                         |             |                |                       |                 |                                                    |                        |\n",
      "|                    |                                         |                   |                                 |    SUM(\"RETURN_ROW_PRICE\") AS \"RETURN_ROW_PRICE\",  |           |                          |                                                    |                |                          |                         |             |                |                       |                 |                                                    |                        |\n",
      "|                    |                                         |                   |                                 |    MIN(\"INVOICE_YEAR\") AS \"INVOICE_YEAR\",          |           |                          |                                                    |                |                          |                         |             |                |                       |                 |                                                    |                        |\n",
      "|                    |                                         |                   |                                 |    MAX(\"ORDER_DATE\") AS \"LATEST_ORDER_DATE\"        |           |                          |                                                    |                |                          |                         |             |                |                       |                 |                                                    |                        |\n",
      "|                    |                                         |                   |                                 |  FROM cte_4 AS cte_4                               |           |                          |                                                    |                |                          |                         |             |                |                       |                 |                                                    |                        |\n",
      "|                    |                                         |                   |                                 |  GROUP BY                                          |           |                          |                                                    |                |                          |                         |             |                |                       |                 |                                                    |                        |\n",
      "|                    |                                         |                   |                                 |    \"O_CUSTOMER_SK\",                                |           |                          |                                                    |                |                          |                         |             |                |                       |                 |                                                    |                        |\n",
      "|                    |                                         |                   |                                 |    \"O_ORDER_ID\"                                    |           |                          |                                                    |                |                          |                         |             |                |                       |                 |                                                    |                        |\n",
      "|                    |                                         |                   |                                 |), cte_6 AS (                                       |           |                          |                                                    |                |                          |                         |             |                |                       |                 |                                                    |                        |\n",
      "|                    |                                         |                   |                                 |  SELECT                                            |           |                          |                                                    |                |                          |                         |             |                |                       |                 |                                                    |                        |\n",
      "|                    |                                         |                   |                                 |    \"O_CUSTOMER_SK\",                                |           |                          |                                                    |                |                          |                         |             |                |                       |                 |                                                    |                        |\n",
      "|                    |                                         |                   |                                 |    \"O_ORDER_ID\",                                   |           |                          |                                                    |                |                          |                         |             |                |                       |                 |                                                    |                        |\n",
      "|                    |                                         |                   |                                 |    \"ROW_PRICE\",                                    |           |                          |                                                    |                |                          |                         |             |                |                       |                 |                                                    |                        |\n",
      "|                    |                                         |                   |                                 |    \"RETURN_ROW_PRICE\",                             |           |                          |                                                    |                |                          |                         |             |                |                       |                 |                                                    |                        |\n",
      "|                    |                                         |                   |                                 |    \"INVOICE_YEAR\",                                 |           |                          |                                                    |                |                          |                         |             |                |                       |                 |                                                    |                        |\n",
      "|                    |                                         |                   |                                 |    \"LATEST_ORDER_DATE\",                            |           |                          |                                                    |                |                          |                         |             |                |                       |                 |                                                    |                        |\n",
      "|                    |                                         |                   |                                 |    (                                               |           |                          |                                                    |                |                          |                         |             |                |                       |                 |                                                    |                        |\n",
      "|                    |                                         |                   |                                 |      \"RETURN_ROW_PRICE\" / \"ROW_PRICE\"              |           |                          |                                                    |                |                          |                         |             |                |                       |                 |                                                    |                        |\n",
      "|                    |                                         |                   |                                 |    ) AS \"RATIO\"                                    |           |                          |                                                    |                |                          |                         |             |                |                       |                 |                                                    |                        |\n",
      "|                    |                                         |                   |                                 |  FROM cte_5 AS cte_5                               |           |                          |                                                    |                |                          |                         |             |                |                       |                 |                                                    |                        |\n",
      "|                    |                                         |                   |                                 |), cte_7 AS (                                       |           |                          |                                                    |                |                          |                         |             |                |                       |                 |                                                    |                        |\n",
      "|                    |                                         |                   |                                 |  SELECT                                            |           |                          |                                                    |                |                          |                         |             |                |                       |                 |                                                    |                        |\n",
      "|                    |                                         |                   |                                 |    \"O_CUSTOMER_SK\",                                |           |                          |                                                    |                |                          |                         |             |                |                       |                 |                                                    |                        |\n",
      "|                    |                                         |                   |                                 |    \"INVOICE_YEAR\",                                 |           |                          |                                                    |                |                          |                         |             |                |                       |                 |                                                    |                        |\n",
      "|                    |                                         |                   |                                 |    CAST(COUNT(\"O_ORDER_ID\") AS FLOAT) AS \"FREQ...  |           |                          |                                                    |                |                          |                         |             |                |                       |                 |                                                    |                        |\n",
      "|                    |                                         |                   |                                 |  FROM cte_6 AS cte_6                               |           |                          |                                                    |                |                          |                         |             |                |                       |                 |                                                    |                        |\n",
      "|                    |                                         |                   |                                 |  GROUP BY                                          |           |                          |                                                    |                |                          |                         |             |                |                       |                 |                                                    |                        |\n",
      "|                    |                                         |                   |                                 |    \"O_CUSTOMER_SK\",                                |           |                          |                                                    |                |                          |                         |             |                |                       |                 |                                                    |                        |\n",
      "|                    |                                         |                   |                                 |    \"INVOICE_YEAR\"                                  |           |                          |                                                    |                |                          |                         |             |                |                       |                 |                                                    |                        |\n",
      "|                    |                                         |                   |                                 |), cte_8 AS (                                       |           |                          |                                                    |                |                          |                         |             |                |                       |                 |                                                    |                        |\n",
      "|                    |                                         |                   |                                 |  SELECT                                            |           |                          |                                                    |                |                          |                         |             |                |                       |                 |                                                    |                        |\n",
      "|                    |                                         |                   |                                 |    \"O_CUSTOMER_SK\",                                |           |                          |                                                    |                |                          |                         |             |                |                       |                 |                                                    |                        |\n",
      "|                    |                                         |                   |                                 |    AVG(\"FREQUENCY\") AS \"FREQUENCY\"                 |           |                          |                                                    |                |                          |                         |             |                |                       |                 |                                                    |                        |\n",
      "|                    |                                         |                   |                                 |  FROM cte_7 AS cte_7                               |           |                          |                                                    |                |                          |                         |             |                |                       |                 |                                                    |                        |\n",
      "|                    |                                         |                   |                                 |  GROUP BY                                          |           |                          |                                                    |                |                          |                         |             |                |                       |                 |                                                    |                        |\n",
      "|                    |                                         |                   |                                 |    \"O_CUSTOMER_SK\"                                 |           |                          |                                                    |                |                          |                         |             |                |                       |                 |                                                    |                        |\n",
      "|                    |                                         |                   |                                 |), SNOWPARK_LEFT_3 AS (                             |           |                          |                                                    |                |                          |                         |             |                |                       |                 |                                                    |                        |\n",
      "|                    |                                         |                   |                                 |  SELECT                                            |           |                          |                                                    |                |                          |                         |             |                |                       |                 |                                                    |                        |\n",
      "|                    |                                         |                   |                                 |    \"O_CUSTOMER_SK\" AS \"O_CUSTOMER_SK\",             |           |                          |                                                    |                |                          |                         |             |                |                       |                 |                                                    |                        |\n",
      "|                    |                                         |                   |                                 |    \"FREQUENCY\" AS \"FREQUENCY\"                      |           |                          |                                                    |                |                          |                         |             |                |                       |                 |                                                    |                        |\n",
      "|                    |                                         |                   |                                 |  FROM cte_8 AS cte_8                               |           |                          |                                                    |                |                          |                         |             |                |                       |                 |                                                    |                        |\n",
      "|                    |                                         |                   |                                 |), cte_9 AS (                                       |           |                          |                                                    |                |                          |                         |             |                |                       |                 |                                                    |                        |\n",
      "|                    |                                         |                   |                                 |  SELECT                                            |           |                          |                                                    |                |                          |                         |             |                |                       |                 |                                                    |                        |\n",
      "|                    |                                         |                   |                                 |    \"O_CUSTOMER_SK\",                                |           |                          |                                                    |                |                          |                         |             |                |                       |                 |                                                    |                        |\n",
      "|                    |                                         |                   |                                 |    CAST(AVG(\"RATIO\") AS FLOAT) AS \"RETURN_RATIO\",  |           |                          |                                                    |                |                          |                         |             |                |                       |                 |                                                    |                        |\n",
      "|                    |                                         |                   |                                 |    MAX(\"LATEST_ORDER_DATE\") AS \"LATEST_ORDER_D...  |           |                          |                                                    |                |                          |                         |             |                |                       |                 |                                                    |                        |\n",
      "|                    |                                         |                   |                                 |  FROM cte_6 AS cte_6                               |           |                          |                                                    |                |                          |                         |             |                |                       |                 |                                                    |                        |\n",
      "|                    |                                         |                   |                                 |  GROUP BY                                          |           |                          |                                                    |                |                          |                         |             |                |                       |                 |                                                    |                        |\n",
      "|                    |                                         |                   |                                 |    \"O_CUSTOMER_SK\"                                 |           |                          |                                                    |                |                          |                         |             |                |                       |                 |                                                    |                        |\n",
      "|                    |                                         |                   |                                 |), SNOWPARK_RIGHT_3 AS (                            |           |                          |                                                    |                |                          |                         |             |                |                       |                 |                                                    |                        |\n",
      "|                    |                                         |                   |                                 |  SELECT                                            |           |                          |                                                    |                |                          |                         |             |                |                       |                 |                                                    |                        |\n",
      "|                    |                                         |                   |                                 |    \"O_CUSTOMER_SK\" AS \"O_CUSTOMER_SK\",             |           |                          |                                                    |                |                          |                         |             |                |                       |                 |                                                    |                        |\n",
      "|                    |                                         |                   |                                 |    \"RETURN_RATIO\" AS \"RETURN_RATIO\",               |           |                          |                                                    |                |                          |                         |             |                |                       |                 |                                                    |                        |\n",
      "|                    |                                         |                   |                                 |    \"LATEST_ORDER_DATE\" AS \"LATEST_ORDER_DATE\"      |           |                          |                                                    |                |                          |                         |             |                |                       |                 |                                                    |                        |\n",
      "|                    |                                         |                   |                                 |  FROM cte_9 AS cte_9                               |           |                          |                                                    |                |                          |                         |             |                |                       |                 |                                                    |                        |\n",
      "|                    |                                         |                   |                                 |)                                                   |           |                          |                                                    |                |                          |                         |             |                |                       |                 |                                                    |                        |\n",
      "|                    |                                         |                   |                                 |SELECT                                              |           |                          |                                                    |                |                          |                         |             |                |                       |                 |                                                    |                        |\n",
      "|                    |                                         |                   |                                 |  *                                                 |           |                          |                                                    |                |                          |                         |             |                |                       |                 |                                                    |                        |\n",
      "|                    |                                         |                   |                                 |FROM (                                              |           |                          |                                                    |                |                          |                         |             |                |                       |                 |                                                    |                        |\n",
      "|                    |                                         |                   |                                 |  SNOWPARK_LEFT_3 AS SNOWPARK_LEFT                  |           |                          |                                                    |                |                          |                         |             |                |                       |                 |                                                    |                        |\n",
      "|                    |                                         |                   |                                 |    INNER JOIN SNOWPARK_RIGHT_3 AS SNOWPARK_RIGHT   |           |                          |                                                    |                |                          |                         |             |                |                       |                 |                                                    |                        |\n",
      "|                    |                                         |                   |                                 |      USING (O_CUSTOMER_SK)                         |           |                          |                                                    |                |                          |                         |             |                |                       |                 |                                                    |                        |\n",
      "|                    |                                         |                   |                                 |)                                                   |           |                          |                                                    |                |                          |                         |             |                |                       |                 |                                                    |                        |\n",
      "----------------------------------------------------------------------------------------------------------------------------------------------------------------------------------------------------------------------------------------------------------------------------------------------------------------------------------------------------------------------------------------------------------------------------------------------------------------------------------------------------\n",
      "\n"
     ]
    }
   ],
   "source": [
    "FV_UC01_PREPROCESS_V_1.to_df(session).show()"
   ]
  },
  {
   "cell_type": "code",
   "execution_count": 32,
   "metadata": {
    "metadata": {}
   },
   "outputs": [
    {
     "name": "stdout",
     "output_type": "stream",
     "text": [
      "-------------------------------------------------------------------------------\n",
      "|\"O_CUSTOMER_SK\"  |\"FREQUENCY\"         |\"RETURN_RATIO\"  |\"LATEST_ORDER_DATE\"  |\n",
      "-------------------------------------------------------------------------------\n",
      "|2678             |3.0                 |0.69305925      |2023-09-20           |\n",
      "|24344            |2.5                 |0.733253926     |2023-08-18           |\n",
      "|19487            |2.5                 |0.643377462     |2023-03-12           |\n",
      "|51982            |3.5                 |0.787972591429  |2023-08-30           |\n",
      "|55985            |2.0                 |0.9282154       |2023-02-28           |\n",
      "|23354            |4.0                 |0.92230337      |2022-12-15           |\n",
      "|47546            |2.3333333333333335  |0.87924162      |2023-09-18           |\n",
      "|3175             |3.0                 |0.671558776667  |2023-05-03           |\n",
      "|58779            |1.3333333333333333  |0.668436265     |2023-04-12           |\n",
      "|65207            |3.5                 |0.914653757143  |2023-09-26           |\n",
      "-------------------------------------------------------------------------------\n",
      "\n"
     ]
    }
   ],
   "source": [
    "# We can look at the FeatureView's contents with\n",
    "fv_uc01_preprocess.feature_df.show()"
   ]
  },
  {
   "cell_type": "markdown",
   "metadata": {},
   "source": [
    "### Create training data Dataset from FeatureView_Preprocess"
   ]
  },
  {
   "cell_type": "code",
   "execution_count": 33,
   "metadata": {
    "metadata": {}
   },
   "outputs": [
    {
     "name": "stdout",
     "output_type": "stream",
     "text": [
      "---------------------------------\n",
      "|\"O_CUSTOMER_SK\"  |\"ASOF_DATE\"  |\n",
      "---------------------------------\n",
      "|0                |2023-10-10   |\n",
      "|1                |2023-07-10   |\n",
      "|2                |2023-08-01   |\n",
      "|3                |2023-09-25   |\n",
      "|4                |2023-05-02   |\n",
      "---------------------------------\n",
      "\n"
     ]
    }
   ],
   "source": [
    "# Create Spine\n",
    "spine_sdf =  fv_uc01_preprocess.feature_df.group_by('O_CUSTOMER_SK').agg( F.max('LATEST_ORDER_DATE').as_('ASOF_DATE'))#.limit(10)\n",
    "\n",
    "spine_sdf.sort('O_CUSTOMER_SK').show(5)\n"
   ]
  },
  {
   "cell_type": "code",
   "execution_count": 34,
   "metadata": {
    "metadata": {}
   },
   "outputs": [
    {
     "name": "stderr",
     "output_type": "stream",
     "text": [
      "WARNING:root:A Column with DATE or TIMESTAMP data type detected. It might not be able to get converted to tensors. Please consider handle it in feature engineering.\n"
     ]
    },
    {
     "name": "stdout",
     "output_type": "stream",
     "text": [
      "---------------------------------------------------------------------------\n",
      "|\"O_CUSTOMER_SK\"  |\"ASOF_DATE\"  |\"FREQUENCY\"         |\"RETURN_RATIO\"      |\n",
      "---------------------------------------------------------------------------\n",
      "|0                |2023-10-10   |2.5                 |0.7006146907806396  |\n",
      "|1                |2023-07-10   |3.5                 |0.8004919290542603  |\n",
      "|2                |2023-08-01   |1.6666666269302368  |0.6384019255638123  |\n",
      "|3                |2023-09-25   |3.0                 |0.6914749145507812  |\n",
      "|4                |2023-05-02   |2.3333332538604736  |0.6873698234558105  |\n",
      "---------------------------------------------------------------------------\n",
      "\n"
     ]
    }
   ],
   "source": [
    "# Generate_Dataset\n",
    "training_dataset = fs.generate_dataset( name = 'UC01_TRAINING',\n",
    "                                        spine_df = spine_sdf, features = [fv_uc01_preprocess], \n",
    "                                        spine_timestamp_col = 'ASOF_DATE'\n",
    "                                        )                                     \n",
    "# Create a snowpark dataframe reference from the Dataset\n",
    "training_dataset_sdf = training_dataset.read.to_snowpark_dataframe()\n",
    "# Display some sample data\n",
    "training_dataset_sdf.sort('O_CUSTOMER_SK').show(5)\n"
   ]
  },
  {
   "cell_type": "code",
   "execution_count": 35,
   "metadata": {},
   "outputs": [
    {
     "data": {
      "text/html": [
       "<div>\n",
       "<style scoped>\n",
       "    .dataframe tbody tr th:only-of-type {\n",
       "        vertical-align: middle;\n",
       "    }\n",
       "\n",
       "    .dataframe tbody tr th {\n",
       "        vertical-align: top;\n",
       "    }\n",
       "\n",
       "    .dataframe thead th {\n",
       "        text-align: right;\n",
       "    }\n",
       "</style>\n",
       "<table border=\"1\" class=\"dataframe\">\n",
       "  <thead>\n",
       "    <tr style=\"text-align: right;\">\n",
       "      <th></th>\n",
       "      <th>O_CUSTOMER_SK</th>\n",
       "      <th>ASOF_DATE</th>\n",
       "      <th>FREQUENCY</th>\n",
       "      <th>RETURN_RATIO</th>\n",
       "    </tr>\n",
       "  </thead>\n",
       "  <tbody>\n",
       "    <tr>\n",
       "      <th>0</th>\n",
       "      <td>14068</td>\n",
       "      <td>2023-06-19</td>\n",
       "      <td>2.0</td>\n",
       "      <td>0.588942</td>\n",
       "    </tr>\n",
       "    <tr>\n",
       "      <th>1</th>\n",
       "      <td>49390</td>\n",
       "      <td>2022-12-26</td>\n",
       "      <td>7.0</td>\n",
       "      <td>0.823206</td>\n",
       "    </tr>\n",
       "    <tr>\n",
       "      <th>2</th>\n",
       "      <td>22446</td>\n",
       "      <td>2023-01-10</td>\n",
       "      <td>1.5</td>\n",
       "      <td>0.906292</td>\n",
       "    </tr>\n",
       "    <tr>\n",
       "      <th>3</th>\n",
       "      <td>53624</td>\n",
       "      <td>2023-01-29</td>\n",
       "      <td>2.5</td>\n",
       "      <td>0.691719</td>\n",
       "    </tr>\n",
       "    <tr>\n",
       "      <th>4</th>\n",
       "      <td>58171</td>\n",
       "      <td>2023-08-09</td>\n",
       "      <td>3.0</td>\n",
       "      <td>0.834478</td>\n",
       "    </tr>\n",
       "    <tr>\n",
       "      <th>...</th>\n",
       "      <td>...</td>\n",
       "      <td>...</td>\n",
       "      <td>...</td>\n",
       "      <td>...</td>\n",
       "    </tr>\n",
       "    <tr>\n",
       "      <th>70310</th>\n",
       "      <td>52080</td>\n",
       "      <td>2023-01-16</td>\n",
       "      <td>1.5</td>\n",
       "      <td>0.740580</td>\n",
       "    </tr>\n",
       "    <tr>\n",
       "      <th>70311</th>\n",
       "      <td>23316</td>\n",
       "      <td>2023-04-27</td>\n",
       "      <td>2.0</td>\n",
       "      <td>0.794256</td>\n",
       "    </tr>\n",
       "    <tr>\n",
       "      <th>70312</th>\n",
       "      <td>36622</td>\n",
       "      <td>2023-10-24</td>\n",
       "      <td>5.0</td>\n",
       "      <td>0.809389</td>\n",
       "    </tr>\n",
       "    <tr>\n",
       "      <th>70313</th>\n",
       "      <td>10636</td>\n",
       "      <td>2023-01-09</td>\n",
       "      <td>2.5</td>\n",
       "      <td>0.847816</td>\n",
       "    </tr>\n",
       "    <tr>\n",
       "      <th>70314</th>\n",
       "      <td>54403</td>\n",
       "      <td>2023-05-05</td>\n",
       "      <td>2.0</td>\n",
       "      <td>0.832159</td>\n",
       "    </tr>\n",
       "  </tbody>\n",
       "</table>\n",
       "<p>70315 rows × 4 columns</p>\n",
       "</div>"
      ],
      "text/plain": [
       "       O_CUSTOMER_SK   ASOF_DATE  FREQUENCY  RETURN_RATIO\n",
       "0              14068  2023-06-19        2.0      0.588942\n",
       "1              49390  2022-12-26        7.0      0.823206\n",
       "2              22446  2023-01-10        1.5      0.906292\n",
       "3              53624  2023-01-29        2.5      0.691719\n",
       "4              58171  2023-08-09        3.0      0.834478\n",
       "...              ...         ...        ...           ...\n",
       "70310          52080  2023-01-16        1.5      0.740580\n",
       "70311          23316  2023-04-27        2.0      0.794256\n",
       "70312          36622  2023-10-24        5.0      0.809389\n",
       "70313          10636  2023-01-09        2.5      0.847816\n",
       "70314          54403  2023-05-05        2.0      0.832159\n",
       "\n",
       "[70315 rows x 4 columns]"
      ]
     },
     "execution_count": 35,
     "metadata": {},
     "output_type": "execute_result"
    }
   ],
   "source": [
    "training_dataset_sdf.to_pandas()"
   ]
  },
  {
   "cell_type": "code",
   "execution_count": 36,
   "metadata": {
    "metadata": {}
   },
   "outputs": [
    {
     "name": "stdout",
     "output_type": "stream",
     "text": [
      "['2025_01_28_10_55_49', '2025_01_28_11_07_36', '2025_01_28_11_22_06', '2025_01_28_13_02_19', '2025_01_28_13_15_22']\n",
      "DatasetVersion(dataset='TPCXAI_SF0001_QUICKSTART._TRAINING_FEATURE_STORE.UC01_TRAINING', version='2025_01_28_13_15_22')\n",
      "TPCXAI_SF0001_QUICKSTART._TRAINING_FEATURE_STORE.UC01_TRAINING\n"
     ]
    }
   ],
   "source": [
    "print(training_dataset.list_versions())\n",
    "print(training_dataset.selected_version)\n",
    "print(training_dataset.fully_qualified_name)"
   ]
  },
  {
   "cell_type": "code",
   "execution_count": 37,
   "metadata": {},
   "outputs": [
    {
     "data": {
      "text/plain": [
       "'2025_01_28_13_15_22'"
      ]
     },
     "execution_count": 37,
     "metadata": {},
     "output_type": "execute_result"
    }
   ],
   "source": [
    "training_dataset.list_versions()[-1]"
   ]
  },
  {
   "cell_type": "code",
   "execution_count": 38,
   "metadata": {
    "metadata": {}
   },
   "outputs": [],
   "source": [
    "# Get the latest version\n",
    "training_dataset_latest = training_dataset.list_versions()[-1]"
   ]
  },
  {
   "cell_type": "code",
   "execution_count": 39,
   "metadata": {
    "metadata": {}
   },
   "outputs": [
    {
     "data": {
      "text/html": [
       "<div>\n",
       "<style scoped>\n",
       "    .dataframe tbody tr th:only-of-type {\n",
       "        vertical-align: middle;\n",
       "    }\n",
       "\n",
       "    .dataframe tbody tr th {\n",
       "        vertical-align: top;\n",
       "    }\n",
       "\n",
       "    .dataframe thead th {\n",
       "        text-align: right;\n",
       "    }\n",
       "</style>\n",
       "<table border=\"1\" class=\"dataframe\">\n",
       "  <thead>\n",
       "    <tr style=\"text-align: right;\">\n",
       "      <th></th>\n",
       "      <th>O_CUSTOMER_SK</th>\n",
       "      <th>ASOF_DATE</th>\n",
       "      <th>FREQUENCY</th>\n",
       "      <th>RETURN_RATIO</th>\n",
       "    </tr>\n",
       "  </thead>\n",
       "  <tbody>\n",
       "    <tr>\n",
       "      <th>0</th>\n",
       "      <td>27655</td>\n",
       "      <td>2023-07-04</td>\n",
       "      <td>1.666667</td>\n",
       "      <td>0.767272</td>\n",
       "    </tr>\n",
       "    <tr>\n",
       "      <th>1</th>\n",
       "      <td>61396</td>\n",
       "      <td>2023-10-23</td>\n",
       "      <td>3.000000</td>\n",
       "      <td>0.720880</td>\n",
       "    </tr>\n",
       "    <tr>\n",
       "      <th>2</th>\n",
       "      <td>67767</td>\n",
       "      <td>2023-07-09</td>\n",
       "      <td>1.500000</td>\n",
       "      <td>0.694193</td>\n",
       "    </tr>\n",
       "    <tr>\n",
       "      <th>3</th>\n",
       "      <td>40175</td>\n",
       "      <td>2023-06-28</td>\n",
       "      <td>2.500000</td>\n",
       "      <td>0.852311</td>\n",
       "    </tr>\n",
       "    <tr>\n",
       "      <th>4</th>\n",
       "      <td>60017</td>\n",
       "      <td>2023-09-06</td>\n",
       "      <td>1.500000</td>\n",
       "      <td>0.726812</td>\n",
       "    </tr>\n",
       "    <tr>\n",
       "      <th>...</th>\n",
       "      <td>...</td>\n",
       "      <td>...</td>\n",
       "      <td>...</td>\n",
       "      <td>...</td>\n",
       "    </tr>\n",
       "    <tr>\n",
       "      <th>70310</th>\n",
       "      <td>27314</td>\n",
       "      <td>2023-03-06</td>\n",
       "      <td>1.500000</td>\n",
       "      <td>0.876925</td>\n",
       "    </tr>\n",
       "    <tr>\n",
       "      <th>70311</th>\n",
       "      <td>7714</td>\n",
       "      <td>2022-11-30</td>\n",
       "      <td>3.000000</td>\n",
       "      <td>0.768920</td>\n",
       "    </tr>\n",
       "    <tr>\n",
       "      <th>70312</th>\n",
       "      <td>15301</td>\n",
       "      <td>2023-05-30</td>\n",
       "      <td>2.000000</td>\n",
       "      <td>0.783299</td>\n",
       "    </tr>\n",
       "    <tr>\n",
       "      <th>70313</th>\n",
       "      <td>64056</td>\n",
       "      <td>2023-03-27</td>\n",
       "      <td>5.000000</td>\n",
       "      <td>0.703336</td>\n",
       "    </tr>\n",
       "    <tr>\n",
       "      <th>70314</th>\n",
       "      <td>59356</td>\n",
       "      <td>2023-10-12</td>\n",
       "      <td>2.000000</td>\n",
       "      <td>0.884812</td>\n",
       "    </tr>\n",
       "  </tbody>\n",
       "</table>\n",
       "<p>70315 rows × 4 columns</p>\n",
       "</div>"
      ],
      "text/plain": [
       "       O_CUSTOMER_SK   ASOF_DATE  FREQUENCY  RETURN_RATIO\n",
       "0              27655  2023-07-04   1.666667      0.767272\n",
       "1              61396  2023-10-23   3.000000      0.720880\n",
       "2              67767  2023-07-09   1.500000      0.694193\n",
       "3              40175  2023-06-28   2.500000      0.852311\n",
       "4              60017  2023-09-06   1.500000      0.726812\n",
       "...              ...         ...        ...           ...\n",
       "70310          27314  2023-03-06   1.500000      0.876925\n",
       "70311           7714  2022-11-30   3.000000      0.768920\n",
       "70312          15301  2023-05-30   2.000000      0.783299\n",
       "70313          64056  2023-03-27   5.000000      0.703336\n",
       "70314          59356  2023-10-12   2.000000      0.884812\n",
       "\n",
       "[70315 rows x 4 columns]"
      ]
     },
     "execution_count": 39,
     "metadata": {},
     "output_type": "execute_result"
    }
   ],
   "source": [
    "training_dataset.read.to_pandas()"
   ]
  },
  {
   "cell_type": "markdown",
   "metadata": {},
   "source": [
    "### Fit Snowpark-ML Transforms & Model using Fileset training data\n",
    "\n",
    "We need to fit the transformer over the training Fileset to ensure we are using the same input global values for transforming and training, and later inference with the model.\n",
    "\n",
    "The transforms here are model-specific and persisted within the model-pipeline, and not stored in the Feature Store."
   ]
  },
  {
   "cell_type": "code",
   "execution_count": 40,
   "metadata": {
    "metadata": {}
   },
   "outputs": [],
   "source": [
    "## MODEL PIPELINE \n",
    "## - Model Specific Transforms\n",
    "## - Model Fitting Function (Kmeans)\n",
    "\n",
    "def uc01_train(featurevector, num_clusters):\n",
    "    mms_input_cols = ['RETURN_RATIO', 'FREQUENCY']\n",
    "    km_input_cols = mms_output_cols =['RETURN_RATIO_MMS', 'FREQUENCY_MMS']    \n",
    "    km_output_cols = \"CLUSTER\"\n",
    "    km4_purchases = sml_Pipeline(\n",
    "        steps=[ (\"MMS\",\n",
    "                    sml_MinMaxScaler(\n",
    "                        clip=True,\n",
    "                        input_cols=mms_input_cols,\n",
    "                        output_cols=mms_output_cols,)),\n",
    "                (\"KM\",\n",
    "                    sml_KMeans(\n",
    "                        n_clusters=num_clusters,\n",
    "                        init='k-means++',\n",
    "                        max_iter=300,\n",
    "                        n_init=10,\n",
    "                        random_state=0,\n",
    "                        input_cols=km_input_cols,\n",
    "                        output_cols = km_output_cols)),])\n",
    "    km4_purchases.fit(featurevector.select(mms_input_cols))\n",
    "    return {'MODEL': km4_purchases}"
   ]
  },
  {
   "cell_type": "code",
   "execution_count": 41,
   "metadata": {
    "metadata": {}
   },
   "outputs": [],
   "source": [
    "## Fit the KMeans Model\n",
    "model_name = \"UC01_SNOWFLAKEML_KMEANS_MODEL\"\n",
    "\n",
    "num_clusters = 5\n",
    "\n",
    "train_result = uc01_train(training_dataset_sdf, num_clusters)#"
   ]
  },
  {
   "cell_type": "code",
   "execution_count": null,
   "metadata": {
    "metadata": {}
   },
   "outputs": [],
   "source": [
    "# Check for the latest version of this model in registry, and increment version\n",
    "mr_df = mr.show_models()\n",
    "model_version = check_and_update(mr_df, model_name)\n",
    "print('model version:\\t',model_version)\n",
    "# Save the Model to the Model Registry\n",
    "mv_kmeans = mr.log_model(model= train_result['MODEL'],\n",
    "                model_name= model_name,\n",
    "                version_name= model_version,\n",
    "                comment=\"TPCXAI USE CASE 01 - KMEANS - CUSTOMER PURCHASE CLUSTERS\",\n",
    "                pip_requirements=None\n",
    "                )"
   ]
  },
  {
   "cell_type": "code",
   "execution_count": 29,
   "metadata": {
    "metadata": {}
   },
   "outputs": [
    {
     "data": {
      "text/html": [
       "<div>\n",
       "<style scoped>\n",
       "    .dataframe tbody tr th:only-of-type {\n",
       "        vertical-align: middle;\n",
       "    }\n",
       "\n",
       "    .dataframe tbody tr th {\n",
       "        vertical-align: top;\n",
       "    }\n",
       "\n",
       "    .dataframe thead th {\n",
       "        text-align: right;\n",
       "    }\n",
       "</style>\n",
       "<table border=\"1\" class=\"dataframe\">\n",
       "  <thead>\n",
       "    <tr style=\"text-align: right;\">\n",
       "      <th></th>\n",
       "      <th>created_on</th>\n",
       "      <th>name</th>\n",
       "      <th>database_name</th>\n",
       "      <th>schema_name</th>\n",
       "      <th>comment</th>\n",
       "      <th>owner</th>\n",
       "      <th>default_version_name</th>\n",
       "      <th>versions</th>\n",
       "    </tr>\n",
       "  </thead>\n",
       "  <tbody>\n",
       "    <tr>\n",
       "      <th>0</th>\n",
       "      <td>2024-05-22 15:45:05.699000-07:00</td>\n",
       "      <td>UC01_SNOWFLAKEML_KMEANS_MODEL</td>\n",
       "      <td>TPCXAI_SF0001_QUICKSTART_INC</td>\n",
       "      <td>_MODEL_REGISTRY</td>\n",
       "      <td>None</td>\n",
       "      <td>FS_QS_ROLE</td>\n",
       "      <td>V_2</td>\n",
       "      <td>[\"V_1\",\"V_2\",\"V_3\",\"V_4\"]</td>\n",
       "    </tr>\n",
       "  </tbody>\n",
       "</table>\n",
       "</div>"
      ],
      "text/plain": [
       "                        created_on                           name  \\\n",
       "0 2024-05-22 15:45:05.699000-07:00  UC01_SNOWFLAKEML_KMEANS_MODEL   \n",
       "\n",
       "                  database_name      schema_name comment       owner  \\\n",
       "0  TPCXAI_SF0001_QUICKSTART_INC  _MODEL_REGISTRY    None  FS_QS_ROLE   \n",
       "\n",
       "  default_version_name                   versions  \n",
       "0                  V_2  [\"V_1\",\"V_2\",\"V_3\",\"V_4\"]  "
      ]
     },
     "execution_count": 29,
     "metadata": {},
     "output_type": "execute_result"
    }
   ],
   "source": [
    "mr.show_models()"
   ]
  },
  {
   "cell_type": "code",
   "execution_count": 30,
   "metadata": {},
   "outputs": [],
   "source": [
    "# Get and set default for latest version of the model\n",
    "m = mr.get_model(model_name)\n",
    "latest_version = m.show_versions().iloc[-1]['name']\n",
    "mv = m.version(latest_version)\n",
    "m.default = latest_version"
   ]
  },
  {
   "cell_type": "markdown",
   "metadata": {},
   "source": [
    "#### Check the model clusters"
   ]
  },
  {
   "cell_type": "markdown",
   "metadata": {},
   "source": [
    "We will check the model clusters derived from the model.  We create an inference Function using the Snowflake Model Registry.  This packages our model as a Python function which enables access from [Python](https://docs.snowflake.com/developer-guide/snowpark-ml/model-registry/overview#calling-model-methods) or directly from [SQL](https://docs.snowflake.com/sql-reference/commands-model#label-snowpark-model-registry-model-methods).  This allows the model to be used directly for prediction within our Feature Engineering pipeline, by creating an inference Feature View."
   ]
  },
  {
   "cell_type": "code",
   "execution_count": 31,
   "metadata": {
    "metadata": {}
   },
   "outputs": [],
   "source": [
    "def uc01_serve(featurevector, km4_purchases) -> DataFrame :\n",
    "    clusters = km4_purchases.run(featurevector, function_name=\"predict\")    \n",
    "    return clusters"
   ]
  },
  {
   "cell_type": "code",
   "execution_count": 32,
   "metadata": {
    "metadata": {}
   },
   "outputs": [
    {
     "name": "stdout",
     "output_type": "stream",
     "text": [
      "serve time:\t 0.7153193339472637\n",
      "------------------------------------------------------------------------------------------------------------------------\n",
      "|\"O_CUSTOMER_SK\"  |\"ASOF_DATE\"  |\"FREQUENCY\"  |\"RETURN_RATIO\"  |\"RETURN_RATIO_MMS\"   |\"FREQUENCY_MMS\"      |\"CLUSTER\"  |\n",
      "------------------------------------------------------------------------------------------------------------------------\n",
      "|55984            |2022-03-19   |2.5          |0.741131824     |0.30531993509101674  |0.13636363636363638  |4          |\n",
      "|34802            |2022-10-30   |1.5          |0.833333333333  |0.35734230330398675  |0.04545454545454544  |2          |\n",
      "|40033            |2022-11-10   |3.0          |0.756725883333  |0.31411848841649764  |0.1818181818181818   |4          |\n",
      "|70340            |2022-08-18   |1.0          |0.61905581      |0.2364416336811862   |0.0                  |0          |\n",
      "|48196            |2023-01-04   |1.0          |0.77206235      |0.322771701599322    |0.0                  |2          |\n",
      "|4073             |2023-02-09   |1.0          |0.6985623       |0.2813011585200106   |0.0                  |0          |\n",
      "|58660            |2022-11-09   |1.5          |0.805555556667  |0.3416693958178715   |0.04545454545454544  |2          |\n",
      "|22621            |2022-09-03   |5.0          |0.735392961     |0.3020819268819371   |0.36363636363636365  |3          |\n",
      "|43781            |2022-12-30   |3.5          |0.67143851      |0.2659972464591454   |0.22727272727272727  |1          |\n",
      "|65939            |2022-11-23   |3.5          |0.739719958571  |0.3045233257540771   |0.22727272727272727  |1          |\n",
      "------------------------------------------------------------------------------------------------------------------------\n",
      "\n"
     ]
    }
   ],
   "source": [
    "# Create Spine\n",
    "inference_spine_sdf =  fv_uc01_preprocess.feature_df.group_by('O_CUSTOMER_SK').agg(F.max('LATEST_ORDER_DATE').as_('ASOF_DATE'))\n",
    "\n",
    "# Generate_Dataset\n",
    "inference_dataset_sdf = fs.retrieve_feature_values(spine_df = inference_spine_sdf, features = [fv_uc01_preprocess],  spine_timestamp_col = 'ASOF_DATE' )\n",
    "#inference_dataset_sdf = fs.read_feature_view(fv_uc01_preprocess)\n",
    "\n",
    "start = timeit.default_timer()#\n",
    "# serve_result = uc01_serve(training_dataset_sdf, train_result['MODEL'])#\n",
    "inference_result_sdf = uc01_serve(inference_dataset_sdf, mv)#\n",
    "end = timeit.default_timer()#\n",
    "serve_time = end - start#\n",
    "print('serve time:\\t', serve_time)#\n",
    "\n",
    "inference_sample_sdf = inference_result_sdf.sample(n = 10000)\n",
    "inference_sample_sdf.show()"
   ]
  },
  {
   "cell_type": "code",
   "execution_count": 33,
   "metadata": {
    "metadata": {}
   },
   "outputs": [],
   "source": [
    "#Getting unique labels\n",
    "import matplotlib.pyplot as plt\n",
    "\n",
    "u_labels = inference_sample_sdf.select(F.array_agg(F.col(\"CLUSTER\"), is_distinct = True).alias(\"U_LABELS\")) \\\n",
    "                .select(F.array_sort(F.col(\"U_LABELS\")).cast(T.StringType()).alias(\"U_LABELS\")).collect()[0][0]"
   ]
  },
  {
   "cell_type": "code",
   "execution_count": 34,
   "metadata": {
    "metadata": {}
   },
   "outputs": [
    {
     "data": {
      "image/png": "[encoded data removed]",
      "text/plain": [
       "<Figure size 640x480 with 1 Axes>"
      ]
     },
     "metadata": {},
     "output_type": "display_data"
    }
   ],
   "source": [
    "u_labels_lst = json.loads(u_labels)\n",
    "plt_df = inference_sample_sdf.select(F.col(\"CLUSTER\"), F.col(\"FREQUENCY_MMS\"), F.col(\"RETURN_RATIO_MMS\")).to_pandas()\n",
    "\n",
    "#plotting the results:\n",
    "for i in u_labels_lst:\n",
    "    plt.scatter(plt_df[plt_df['CLUSTER'] == i][['FREQUENCY_MMS']]  , plt_df[plt_df['CLUSTER'] == i][['RETURN_RATIO_MMS']]  , label = i)\n",
    "plt.legend()\n",
    "plt.show()"
   ]
  },
  {
   "cell_type": "markdown",
   "metadata": {},
   "source": [
    "We can look at the query that contains our inference function.  It makes use of the SQL API for Model registry to call the inference function `MODEL_VERSION_ALIAS!PREDICT(RETURN_RATIO, FREQUENCY) AS TMP_RESULT`"
   ]
  },
  {
   "cell_type": "code",
   "execution_count": 35,
   "metadata": {
    "metadata": {}
   },
   "outputs": [
    {
     "name": "stdout",
     "output_type": "stream",
     "text": [
      "SELECT \"O_CUSTOMER_SK\", \"ASOF_DATE\", \"FREQUENCY\", \"RETURN_RATIO\",  CAST (\"TMP_RESULT\"['RETURN_RATIO_MMS'] AS DOUBLE) AS \"RETURN_RATIO_MMS\",  CAST (\"TMP_RESULT\"['FREQUENCY_MMS'] AS DOUBLE) AS \"FREQUENCY_MMS\",  CAST (\"TMP_RESULT\"['CLUSTER'] AS BIGINT) AS \"CLUSTER\" FROM (WITH SNOWPARK_ML_MODEL_INFERENCE_INPUT AS (SELECT\n",
      "                            l_0.*,\n",
      "\n",
      "                            r_0.* EXCLUDE (O_CUSTOMER_SK, LATEST_ORDER_DATE)\n",
      "                        FROM (SELECT \"O_CUSTOMER_SK\", max(\"LATEST_ORDER_DATE\") AS \"ASOF_DATE\" FROM (WITH SNOWPARK_LEFT AS (\n",
      "  SELECT\n",
      "    \"LI_ORDER_ID\" AS \"LI_ORDER_ID\",\n",
      "    \"LI_PRODUCT_ID\" AS \"LI_PRODUCT_ID\",\n",
      "    \"QUANTITY\" AS \"QUANTITY\",\n",
      "    \"PRICE\" AS \"PRICE\"\n",
      "  FROM TPCXAI_SF0001_QUICKSTART_INC.TRAINING.LINEITEM\n",
      "), SNOWPARK_RIGHT AS (\n",
      "  SELECT\n",
      "    \"OR_ORDER_ID\" AS \"OR_ORDER_ID\",\n",
      "    \"OR_PRODUCT_ID\" AS \"OR_PRODUCT_ID\",\n",
      "    \"OR_RETURN_QUANTITY\" AS \"OR_RETURN_QUANTITY\"\n",
      "  FROM TPCXAI_SF0001_QUICKSTART_INC.TRAINING.ORDER_RETURNS\n",
      "), cte AS (\n",
      "  SELECT\n",
      "    *\n",
      "  FROM (\n",
      "    SNOWPARK_LEFT AS SNOWPARK_LEFT\n",
      "      LEFT OUTER JOIN SNOWPARK_RIGHT AS SNOWPARK_RIGHT\n",
      "        ON (\n",
      "          (\n",
      "            \"LI_ORDER_ID\" = \"OR_ORDER_ID\"\n",
      "          ) AND (\n",
      "            \"LI_PRODUCT_ID\" = \"OR_PRODUCT_ID\"\n",
      "          )\n",
      "        )\n",
      "  )\n",
      "), SNOWPARK_LEFT_2 AS (\n",
      "  SELECT\n",
      "    \"LI_ORDER_ID\" AS \"LI_ORDER_ID\",\n",
      "    \"LI_PRODUCT_ID\" AS \"LI_PRODUCT_ID\",\n",
      "    \"QUANTITY\" AS \"QUANTITY\",\n",
      "    \"PRICE\" AS \"PRICE\",\n",
      "    \"OR_ORDER_ID\" AS \"OR_ORDER_ID\",\n",
      "    \"OR_PRODUCT_ID\" AS \"OR_PRODUCT_ID\",\n",
      "    \"OR_RETURN_QUANTITY\" AS \"OR_RETURN_QUANTITY\"\n",
      "  FROM cte AS cte\n",
      "), SNOWPARK_RIGHT_2 AS (\n",
      "  SELECT\n",
      "    \"O_ORDER_ID\" AS \"O_ORDER_ID\",\n",
      "    \"O_CUSTOMER_SK\" AS \"O_CUSTOMER_SK\",\n",
      "    \"ORDER_TS\" AS \"ORDER_TS\",\n",
      "    \"WEEKDAY\" AS \"WEEKDAY\",\n",
      "    \"ORDER_DATE\" AS \"ORDER_DATE\",\n",
      "    \"STORE\" AS \"STORE\",\n",
      "    \"TRIP_TYPE\" AS \"TRIP_TYPE\"\n",
      "  FROM TPCXAI_SF0001_QUICKSTART_INC.TRAINING.ORDERS\n",
      "), cte_2 AS (\n",
      "  SELECT\n",
      "    *\n",
      "  FROM (\n",
      "    SNOWPARK_LEFT_2 AS SNOWPARK_LEFT\n",
      "      INNER JOIN SNOWPARK_RIGHT_2 AS SNOWPARK_RIGHT\n",
      "        ON (\n",
      "          \"OR_ORDER_ID\" = \"O_ORDER_ID\"\n",
      "        )\n",
      "  )\n",
      "), cte_3 AS (\n",
      "  SELECT\n",
      "    IFF(\"O_ORDER_ID\" IS NULL, 0, \"O_ORDER_ID\") AS \"O_ORDER_ID\",\n",
      "    IFF(\"O_CUSTOMER_SK\" IS NULL, 0, \"O_CUSTOMER_SK\") AS \"O_CUSTOMER_SK\",\n",
      "    IFF(\"ORDER_DATE\" IS NULL, CAST('1970-01-01' AS DATE), \"ORDER_DATE\") AS \"ORDER_DATE\",\n",
      "    \"LI_PRODUCT_ID\",\n",
      "    IFF(\"PRICE\" IS NULL, 0.0, \"PRICE\") AS \"PRICE\",\n",
      "    IFF(\"QUANTITY\" IS NULL, 0, \"QUANTITY\") AS \"QUANTITY\",\n",
      "    IFF(\"OR_RETURN_QUANTITY\" IS NULL, 0, \"OR_RETURN_QUANTITY\") AS \"OR_RETURN_QUANTITY\"\n",
      "  FROM cte_2 AS cte_2\n",
      "), cte_4 AS (\n",
      "  SELECT\n",
      "    \"O_ORDER_ID\",\n",
      "    \"O_CUSTOMER_SK\",\n",
      "    \"ORDER_DATE\",\n",
      "    \"LI_PRODUCT_ID\",\n",
      "    \"PRICE\",\n",
      "    \"QUANTITY\",\n",
      "    \"OR_RETURN_QUANTITY\",\n",
      "    YEAR(\"ORDER_DATE\") AS \"INVOICE_YEAR\",\n",
      "    (\n",
      "      \"QUANTITY\" * \"PRICE\"\n",
      "    ) AS \"ROW_PRICE\",\n",
      "    (\n",
      "      \"OR_RETURN_QUANTITY\" * \"PRICE\"\n",
      "    ) AS \"RETURN_ROW_PRICE\"\n",
      "  FROM cte_3 AS cte_3\n",
      "), cte_5 AS (\n",
      "  SELECT\n",
      "    \"O_CUSTOMER_SK\",\n",
      "    \"O_ORDER_ID\",\n",
      "    SUM(\"ROW_PRICE\") AS \"ROW_PRICE\",\n",
      "    SUM(\"RETURN_ROW_PRICE\") AS \"RETURN_ROW_PRICE\",\n",
      "    MIN(\"INVOICE_YEAR\") AS \"INVOICE_YEAR\",\n",
      "    MAX(\"ORDER_DATE\") AS \"LATEST_ORDER_DATE\"\n",
      "  FROM cte_4 AS cte_4\n",
      "  GROUP BY\n",
      "    \"O_CUSTOMER_SK\",\n",
      "    \"O_ORDER_ID\"\n",
      "), cte_6 AS (\n",
      "  SELECT\n",
      "    \"O_CUSTOMER_SK\",\n",
      "    \"O_ORDER_ID\",\n",
      "    \"ROW_PRICE\",\n",
      "    \"RETURN_ROW_PRICE\",\n",
      "    \"INVOICE_YEAR\",\n",
      "    \"LATEST_ORDER_DATE\",\n",
      "    (\n",
      "      \"RETURN_ROW_PRICE\" / \"ROW_PRICE\"\n",
      "    ) AS \"RATIO\"\n",
      "  FROM cte_5 AS cte_5\n",
      "), cte_7 AS (\n",
      "  SELECT\n",
      "    \"O_CUSTOMER_SK\",\n",
      "    \"INVOICE_YEAR\",\n",
      "    CAST(COUNT(\"O_ORDER_ID\") AS FLOAT) AS \"FREQUENCY\"\n",
      "  FROM cte_6 AS cte_6\n",
      "  GROUP BY\n",
      "    \"O_CUSTOMER_SK\",\n",
      "    \"INVOICE_YEAR\"\n",
      "), cte_8 AS (\n",
      "  SELECT\n",
      "    \"O_CUSTOMER_SK\",\n",
      "    AVG(\"FREQUENCY\") AS \"FREQUENCY\"\n",
      "  FROM cte_7 AS cte_7\n",
      "  GROUP BY\n",
      "    \"O_CUSTOMER_SK\"\n",
      "), SNOWPARK_LEFT_3 AS (\n",
      "  SELECT\n",
      "    \"O_CUSTOMER_SK\" AS \"O_CUSTOMER_SK\",\n",
      "    \"FREQUENCY\" AS \"FREQUENCY\"\n",
      "  FROM cte_8 AS cte_8\n",
      "), cte_9 AS (\n",
      "  SELECT\n",
      "    \"O_CUSTOMER_SK\",\n",
      "    CAST(AVG(\"RATIO\") AS FLOAT) AS \"RETURN_RATIO\",\n",
      "    MAX(\"LATEST_ORDER_DATE\") AS \"LATEST_ORDER_DATE\"\n",
      "  FROM cte_6 AS cte_6\n",
      "  GROUP BY\n",
      "    \"O_CUSTOMER_SK\"\n",
      "), SNOWPARK_RIGHT_3 AS (\n",
      "  SELECT\n",
      "    \"O_CUSTOMER_SK\" AS \"O_CUSTOMER_SK\",\n",
      "    \"RETURN_RATIO\" AS \"RETURN_RATIO\",\n",
      "    \"LATEST_ORDER_DATE\" AS \"LATEST_ORDER_DATE\"\n",
      "  FROM cte_9 AS cte_9\n",
      ")\n",
      "SELECT\n",
      "  *\n",
      "FROM (\n",
      "  SNOWPARK_LEFT_3 AS SNOWPARK_LEFT\n",
      "    INNER JOIN SNOWPARK_RIGHT_3 AS SNOWPARK_RIGHT\n",
      "      USING (O_CUSTOMER_SK)\n",
      ")) GROUP BY \"O_CUSTOMER_SK\") l_0\n",
      "                        ASOF JOIN (\n",
      "                            SELECT O_CUSTOMER_SK, LATEST_ORDER_DATE, FREQUENCY, RETURN_RATIO\n",
      "                            FROM TPCXAI_SF0001_QUICKSTART_INC._TRAINING_FEATURE_STORE.FV_UC01_PREPROCESS$V_1\n",
      "                        ) r_0\n",
      "                        MATCH_CONDITION (l_0.ASOF_DATE >= r_0.LATEST_ORDER_DATE)\n",
      "                        ON l_0.O_CUSTOMER_SK = r_0.O_CUSTOMER_SK),MODEL_VERSION_ALIAS AS MODEL TPCXAI_SF0001_QUICKSTART_INC._MODEL_REGISTRY.UC01_SNOWFLAKEML_KMEANS_MODEL VERSION V_2\n",
      "                SELECT *,\n",
      "                    MODEL_VERSION_ALIAS!PREDICT(RETURN_RATIO, FREQUENCY) AS TMP_RESULT\n",
      "                FROM SNOWPARK_ML_MODEL_INFERENCE_INPUT)\n"
     ]
    }
   ],
   "source": [
    "\n",
    "ind_sql = inference_result_sdf.queries['queries'][0]\n",
    "ind_fmtd_sql = os.linesep.join(ind_sql.split(os.linesep)[:1000])\n",
    "print(ind_fmtd_sql)"
   ]
  },
  {
   "cell_type": "markdown",
   "metadata": {},
   "source": [
    "## CLEAN UP"
   ]
  },
  {
   "cell_type": "code",
   "execution_count": 36,
   "metadata": {
    "metadata": {}
   },
   "outputs": [],
   "source": [
    "session.close()"
   ]
  }
 ],
 "metadata": {
  "kernelspec": {
   "display_name": "snowflake-demo",
   "language": "python",
   "name": "python3"
  },
  "language_info": {
   "codemirror_mode": {
    "name": "ipython",
    "version": 3
   },
   "file_extension": ".py",
   "mimetype": "text/x-python",
   "name": "python",
   "nbconvert_exporter": "python",
   "pygments_lexer": "ipython3",
   "version": "3.10.16"
  }
 },
 "nbformat": 4,
 "nbformat_minor": 4
}
